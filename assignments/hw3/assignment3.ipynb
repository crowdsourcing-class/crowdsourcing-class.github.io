{
  "nbformat": 4,
  "nbformat_minor": 0,
  "metadata": {
    "colab": {
      "name": "213HW3.ipynb",
      "provenance": [],
      "collapsed_sections": []
    },
    "kernelspec": {
      "name": "python3",
      "display_name": "Python 3"
    }
  },
  "cells": [
    {
      "cell_type": "markdown",
      "metadata": {
        "id": "-DoXWN8VamJa"
      },
      "source": [
        "# Python Bootcamp: Assignment 3 [100 points]\n",
        "\n",
        "This week we will start writing some code! This assignment is designed to be a crash-course to get you up to speed on the level of Python you will need to know in order to do the remainder of the assignments. It's easiest to learn by doing, so please start early so we can help you get on board. You want to spend the semester focusing on the crowdsourcing and machine learning, not the indenting and semicoloning.\n",
        "\n",
        "Before you do anything save a copy of this file in Drive (found in File) and work on that one."
      ]
    },
    {
      "cell_type": "markdown",
      "metadata": {
        "id": "5p5mAqq8ZNh3"
      },
      "source": [
        "## 1. Working with Lists [15 points]\n",
        "\n",
        "1. **[5 points]** Consider the function `extract_and_apply(l, p, f)` shown below, which extracts the elements of a list `l` satisfying a boolean predicate `p`, applies a function f to each such element, and returns the result.\n",
        "\n",
        "  Rewrite `extract_and_apply(l, p, f)` in one line using a list comprehension."
      ]
    },
    {
      "cell_type": "code",
      "metadata": {
        "id": "VaIiupCGOs05"
      },
      "source": [
        "def extract_and_apply(l, p, f):\n",
        "     result = []\n",
        "     for x in l:\n",
        "         if p(x):\n",
        "             result.append(f(x))\n",
        "     return result"
      ],
      "execution_count": null,
      "outputs": []
    },
    {
      "cell_type": "code",
      "metadata": {
        "id": "O2SPSqSNJzkw"
      },
      "source": [
        "def extract_and_apply(l, p, f):\n",
        "    pass"
      ],
      "execution_count": null,
      "outputs": []
    },
    {
      "cell_type": "code",
      "metadata": {
        "id": "SfgvlZJ2avES"
      },
      "source": [
        "# # Example:\n",
        "# l = [1, 2, 3, 4]\n",
        "# p = lambda x: x % 2 == 0\n",
        "# f = lambda x: x\n",
        "# extract_and_apply(l, p, f)\n",
        "\n",
        "# # Expected output:\n",
        "# # [2, 4]"
      ],
      "execution_count": null,
      "outputs": []
    },
    {
      "cell_type": "markdown",
      "metadata": {
        "id": "Nec_sUYwOWBk"
      },
      "source": [
        "2. **[5 points]** Write a function `concatenate(seqs)` that returns a list containing the concatenation of the elements of the input sequences. Your implementation should consist of a single list comprehension, and should not exceed one line.\n",
        "\n"
      ]
    },
    {
      "cell_type": "code",
      "metadata": {
        "id": "4p-SsgwCaNNL"
      },
      "source": [
        "def concatenate(seqs):\n",
        "    pass"
      ],
      "execution_count": null,
      "outputs": []
    },
    {
      "cell_type": "code",
      "metadata": {
        "id": "Eh_BZSUIOmQM"
      },
      "source": [
        "# # Example:\n",
        "# concatenate([[1, 2], [3, 4]])\n",
        "\n",
        "# # Expected output:\n",
        "# # [1, 2, 3, 4]"
      ],
      "execution_count": null,
      "outputs": []
    },
    {
      "cell_type": "code",
      "metadata": {
        "id": "1idmVGakO6Y7"
      },
      "source": [
        "# # Example:\n",
        "# concatenate([\"abc\", (0, [0])])\n",
        "\n",
        "# # Expected output:\n",
        "# # ['a', 'b', 'c', 0, [0]]"
      ],
      "execution_count": null,
      "outputs": []
    },
    {
      "cell_type": "markdown",
      "metadata": {
        "id": "bxE4OG0sO_mL"
      },
      "source": [
        "3. **[5 points]** Write a function `transpose(matrix)` that returns the transpose of the input matrix, which is represented as a list of lists. Recall that the transpose of a matrix is obtained by swapping its rows with its columns. More concretely, the equality `matrix[i][j] == transpose(matrix)[j][i`] should hold for all valid indices `i` and `j`. You may assume that the input matrix is well-formed, i.e., that each row is of equal length. You may further assume that the input matrix is non-empty. Your function should not modify the input."
      ]
    },
    {
      "cell_type": "code",
      "metadata": {
        "id": "xXgNgjIgO9zu"
      },
      "source": [
        "def transpose(matrix):\n",
        "    pass"
      ],
      "execution_count": null,
      "outputs": []
    },
    {
      "cell_type": "code",
      "metadata": {
        "id": "6RuBAwyNQgAq"
      },
      "source": [
        "# # Example:\n",
        "# transpose([[1, 2, 3]])\n",
        "\n",
        "# # Expected output:\n",
        "# # [[1], [2], [3]]"
      ],
      "execution_count": null,
      "outputs": []
    },
    {
      "cell_type": "code",
      "metadata": {
        "id": "abVIxUH4Qm_y"
      },
      "source": [
        "# # Example:\n",
        "# transpose([[1, 2], [3, 4], [5, 6]])\n",
        "\n",
        "# # Expected output:\n",
        "# # [[1, 3, 5], [2, 4, 6]]"
      ],
      "execution_count": null,
      "outputs": []
    },
    {
      "cell_type": "markdown",
      "metadata": {
        "id": "BPVQUfMZPVH8"
      },
      "source": [
        "## 2. Sequence Slicing [9 points]\n",
        "\n",
        "The functions in this section should be implemented using sequence slices. Recall that the slice parameters take on sensible default values when omitted. In some cases, it may be necessary to use the optional third parameter to specify a step size."
      ]
    },
    {
      "cell_type": "markdown",
      "metadata": {
        "id": "8F8xbe22PrjN"
      },
      "source": [
        "1. **[3 points]** Write a function `copy(seq)` that returns a new sequence containing the same elements as the input sequence."
      ]
    },
    {
      "cell_type": "code",
      "metadata": {
        "id": "_c8quuKaP1kr"
      },
      "source": [
        "def copy(seq):\n",
        "    pass"
      ],
      "execution_count": null,
      "outputs": []
    },
    {
      "cell_type": "code",
      "metadata": {
        "id": "fDwiXbgSQ2kl"
      },
      "source": [
        "# # Example:\n",
        "# copy(\"abc\")\n",
        "\n",
        "# # Expected output:\n",
        "# # 'abc'"
      ],
      "execution_count": null,
      "outputs": []
    },
    {
      "cell_type": "code",
      "metadata": {
        "id": "AgJniWKiTo50"
      },
      "source": [
        "# # Example:\n",
        "# copy((1, 2, 3))\n",
        "\n",
        "# # Expected output:\n",
        "# #  (1, 2, 3)"
      ],
      "execution_count": null,
      "outputs": []
    },
    {
      "cell_type": "code",
      "metadata": {
        "id": "B3x-6vYgTt9_"
      },
      "source": [
        "# # Example:\n",
        "# x = [0, 0, 0]\n",
        "# y = copy(x)\n",
        "# print(x, y)\n",
        "\n",
        "# x[0] = 1\n",
        "# print(x, y)\n",
        "\n",
        "# # Expected output:\n",
        "# # [0, 0, 0] [0, 0, 0]\n",
        "# # [1, 0, 0] [0, 0, 0]"
      ],
      "execution_count": null,
      "outputs": []
    },
    {
      "cell_type": "markdown",
      "metadata": {
        "id": "EWFsSPU9P8qk"
      },
      "source": [
        "2. **[3 points]** Write a function `all_but_last(seq)` that returns a new sequence containing all but the last element of the input sequence. If the input sequence is empty, a new empty sequence of the same type should be returned."
      ]
    },
    {
      "cell_type": "code",
      "metadata": {
        "id": "9jwUCABhQrDc"
      },
      "source": [
        "def all_but_last(seq):\n",
        "    pass"
      ],
      "execution_count": null,
      "outputs": []
    },
    {
      "cell_type": "code",
      "metadata": {
        "id": "QX5KvmFoUBE_"
      },
      "source": [
        "# # Example:\n",
        "# all_but_last(\"abc\")\n",
        "\n",
        "# # Expected output:\n",
        "# # 'ab'"
      ],
      "execution_count": null,
      "outputs": []
    },
    {
      "cell_type": "code",
      "metadata": {
        "id": "FP1-RCwNUBnG"
      },
      "source": [
        "# # Example:\n",
        "# all_but_last((1, 2, 3))\n",
        "\n",
        "# # Expected output:\n",
        "# # (1, 2)"
      ],
      "execution_count": null,
      "outputs": []
    },
    {
      "cell_type": "code",
      "metadata": {
        "id": "6grrejDpUFVc"
      },
      "source": [
        "# # Example:\n",
        "# all_but_last(\"\")\n",
        "\n",
        "# # Expected output:\n",
        "# # ''"
      ],
      "execution_count": null,
      "outputs": []
    },
    {
      "cell_type": "code",
      "metadata": {
        "id": "PPy1_MmaUFxc"
      },
      "source": [
        "# # Example:\n",
        "# all_but_last([])\n",
        "\n",
        "# # Expected output:\n",
        "# # []"
      ],
      "execution_count": null,
      "outputs": []
    },
    {
      "cell_type": "markdown",
      "metadata": {
        "id": "mlazyiLVQA90"
      },
      "source": [
        "3. **[3 points]** Write a function `every_other(seq)` that returns a new sequence containing every other element of the input sequence, starting with the first. This function can be written in one line using the optional third parameter of the slice notation."
      ]
    },
    {
      "cell_type": "code",
      "metadata": {
        "id": "HjMNQZg2P_9A"
      },
      "source": [
        "def every_other(seq):\n",
        "    pass"
      ],
      "execution_count": null,
      "outputs": []
    },
    {
      "cell_type": "code",
      "metadata": {
        "id": "IHruD_R_QGfh"
      },
      "source": [
        "# # Example:\n",
        "# every_other([1, 2, 3, 4, 5])\n",
        "\n",
        "# # Expected output:\n",
        "# # [1, 3, 5]"
      ],
      "execution_count": null,
      "outputs": []
    },
    {
      "cell_type": "code",
      "metadata": {
        "id": "9tqzrxB-USB9"
      },
      "source": [
        "# # Example:\n",
        "# every_other(\"abcde\")\n",
        "\n",
        "# # Expected output:\n",
        "# # 'ace'"
      ],
      "execution_count": null,
      "outputs": []
    },
    {
      "cell_type": "code",
      "metadata": {
        "id": "-uQO2ygIUWqV"
      },
      "source": [
        "# # Example:\n",
        "# every_other([1, 2, 3, 4, 5, 6])\n",
        "\n",
        "# # Expected output:\n",
        "# # [1, 3, 5]"
      ],
      "execution_count": null,
      "outputs": []
    },
    {
      "cell_type": "code",
      "metadata": {
        "id": "st2VKKSwUXJx"
      },
      "source": [
        "# # Example:\n",
        "# every_other(\"abcdef\")\n",
        "\n",
        "# # Expected output:\n",
        "# # 'ace'"
      ],
      "execution_count": null,
      "outputs": []
    },
    {
      "cell_type": "markdown",
      "metadata": {
        "id": "eDAwdnKrQ7vw"
      },
      "source": [
        "## 3. Combinatorial Algorithms [12 points]\n",
        "\n",
        "The functions in this section should be implemented as generators. You may generate the output in any order you find convenient, as long as the correct elements are produced. However, in some cases, you may find that the order of the example output hints at a possible implementation.\n",
        "\n",
        "Although generators in Python can be used in a variety of ways, you will not need to use any of their more sophisticated features here. Simply keep in mind that where you might normally return a list of elements, you should instead yield the individual elements.\n",
        "\n",
        "Since the contents of a generator cannot be viewed without employing some form of iteration, we wrap all function calls in this section’s examples with the list function for convenience."
      ]
    },
    {
      "cell_type": "markdown",
      "metadata": {
        "id": "yYtgo8_pRIGD"
      },
      "source": [
        "1. **[6 points]** The prefixes of a sequence include the empty sequence, the first element, the first two elements, etc., up to and including the full sequence itself. Similarly, the suffixes of a sequence include the empty sequence, the last element, the last two elements, etc., up to and including the full sequence itself. Write a pair of functions `prefixes(seq)` and `suffixes(seq)` that yield all prefixes and suffixes of the input sequence."
      ]
    },
    {
      "cell_type": "code",
      "metadata": {
        "id": "UMGYij6TRS3t"
      },
      "source": [
        "def prefixes(seq):\n",
        "    pass"
      ],
      "execution_count": null,
      "outputs": []
    },
    {
      "cell_type": "code",
      "metadata": {
        "id": "JM_wRlleRdt3"
      },
      "source": [
        "def suffixes(seq):\n",
        "    pass"
      ],
      "execution_count": null,
      "outputs": []
    },
    {
      "cell_type": "code",
      "metadata": {
        "id": "I-LDSa0eUwn5"
      },
      "source": [
        "# # Example:\n",
        "# list(prefixes([1, 2, 3]))\n",
        "\n",
        "# # Expected output:\n",
        "# # [[], [1], [1, 2], [1, 2, 3]]"
      ],
      "execution_count": null,
      "outputs": []
    },
    {
      "cell_type": "code",
      "metadata": {
        "id": "GoMR516HUxm7"
      },
      "source": [
        "# # Example:\n",
        "# list(suffixes([1, 2, 3]))\n",
        "\n",
        "# # Expected output:\n",
        "# # [[1, 2, 3], [2, 3], [3], []]"
      ],
      "execution_count": null,
      "outputs": []
    },
    {
      "cell_type": "code",
      "metadata": {
        "id": "wXn7fZB7Uzq7"
      },
      "source": [
        "# # Example:\n",
        "# list(prefixes(\"abc\"))\n",
        "\n",
        "# # Expected output:\n",
        "# # ['', 'a', 'ab', 'abc']"
      ],
      "execution_count": null,
      "outputs": []
    },
    {
      "cell_type": "code",
      "metadata": {
        "id": "LvzQVX5iU071"
      },
      "source": [
        "# # Example:\n",
        "# list(suffixes(\"abc\"))\n",
        "\n",
        "# # Expected output:\n",
        "# # ['abc', 'bc', 'c', '']"
      ],
      "execution_count": null,
      "outputs": []
    },
    {
      "cell_type": "markdown",
      "metadata": {
        "id": "UnIWnd7bRVpC"
      },
      "source": [
        "2. **[6 points]** Write a function `slices(seq)` that yields all non-empty slices of the input sequence."
      ]
    },
    {
      "cell_type": "code",
      "metadata": {
        "id": "k2lmNjY9RaFy"
      },
      "source": [
        "def slices(seq):\n",
        "    pass"
      ],
      "execution_count": null,
      "outputs": []
    },
    {
      "cell_type": "code",
      "metadata": {
        "id": "BQRgX51NVEE4"
      },
      "source": [
        "# # Example:\n",
        "# list(slices([1, 2, 3]))\n",
        "\n",
        "# # Expected output:\n",
        "# # [[1], [1, 2], [1, 2, 3], [2], [2, 3], [3]]"
      ],
      "execution_count": null,
      "outputs": []
    },
    {
      "cell_type": "code",
      "metadata": {
        "id": "C5qnTbTgVFta"
      },
      "source": [
        "# # Example:\n",
        "# list(slices(\"abc\"))\n",
        "\n",
        "# # Expected output:\n",
        "# # ['a', 'ab', 'abc', 'b', 'bc', 'c']"
      ],
      "execution_count": null,
      "outputs": []
    },
    {
      "cell_type": "markdown",
      "metadata": {
        "id": "XeIbx4rqRmUO"
      },
      "source": [
        "## 4. Text Processing [20 points]"
      ]
    },
    {
      "cell_type": "markdown",
      "metadata": {
        "id": "S2gAcwQZRrcv"
      },
      "source": [
        "1. **[5 points]** A common preprocessing step in many natural language processing tasks is text normalization, wherein words are converted to lowercase, extraneous whitespace is removed, etc. Write a function `normalize(text)` that returns a normalized version of the input string, in which all words have been converted to lowercase and are separated by a single space. No leading or trailing whitespace should be present in the output."
      ]
    },
    {
      "cell_type": "code",
      "metadata": {
        "id": "Ex7WetNTRvLm"
      },
      "source": [
        "def normalize(text):\n",
        "    pass"
      ],
      "execution_count": null,
      "outputs": []
    },
    {
      "cell_type": "code",
      "metadata": {
        "id": "d-kXSmbsVx0i"
      },
      "source": [
        "# # Example:\n",
        "# normalize(\"This is an example.\")\n",
        "\n",
        "# # Expected output:\n",
        "# # 'this is an example.'"
      ],
      "execution_count": null,
      "outputs": []
    },
    {
      "cell_type": "code",
      "metadata": {
        "id": "qfHFoK8hVzOp"
      },
      "source": [
        "# # Example:\n",
        "# normalize(\"   EXTRA   SPACE   \")\n",
        "\n",
        "# # Expected output:\n",
        "# # 'extra space'"
      ],
      "execution_count": null,
      "outputs": []
    },
    {
      "cell_type": "markdown",
      "metadata": {
        "id": "nERQLA3_RxPy"
      },
      "source": [
        "2. **[5 points]** Write a function `no_vowels(text)` that removes all vowels from the input string and returns the result. For the purposes of this problem, the letter ‘y’ is not considered to be a vowel.\n",
        "\n"
      ]
    },
    {
      "cell_type": "code",
      "metadata": {
        "id": "IMg2KKn5R5Jf"
      },
      "source": [
        "def no_vowels(text):\n",
        "    pass"
      ],
      "execution_count": null,
      "outputs": []
    },
    {
      "cell_type": "code",
      "metadata": {
        "id": "b58SNc5fV5PY"
      },
      "source": [
        "# # Example:\n",
        "# no_vowels(\"This Is An Example.\")\n",
        "\n",
        "# # Expected output:\n",
        "# # 'Ths s n xmpl.'"
      ],
      "execution_count": null,
      "outputs": []
    },
    {
      "cell_type": "code",
      "metadata": {
        "id": "cum2PhkwV6zI"
      },
      "source": [
        "# # Example:\n",
        "# no_vowels(\"We love Python!\")\n",
        "\n",
        "# # Expected output:\n",
        "# # 'W lv Pythn!'"
      ],
      "execution_count": null,
      "outputs": []
    },
    {
      "cell_type": "markdown",
      "metadata": {
        "id": "NXuzhUvbR1pm"
      },
      "source": [
        "3. **[5 points]** Write a function `digits_to_words(text)` that extracts all digits from the input string, spells them out as lowercase English words, and returns a new string in which they are each separated by a single space. If the input string contains no digits, then an empty string should be returned."
      ]
    },
    {
      "cell_type": "code",
      "metadata": {
        "id": "x_s2GQraR-g7"
      },
      "source": [
        "def digits_to_words(text):\n",
        "    pass"
      ],
      "execution_count": null,
      "outputs": []
    },
    {
      "cell_type": "code",
      "metadata": {
        "id": "QGnzPb7dV-Gr"
      },
      "source": [
        "# # Example:\n",
        "# digits_to_words(\"Zip Code: 19104\")\n",
        "\n",
        "# # Expected output:\n",
        "# # 'one nine one zero four'"
      ],
      "execution_count": null,
      "outputs": []
    },
    {
      "cell_type": "code",
      "metadata": {
        "id": "Y-Ig9XxVWAa5"
      },
      "source": [
        "# # Example:\n",
        "# digits_to_words(\"Pi is 3.1415...\")\n",
        "\n",
        "# # Expected output:\n",
        "# # 'three one four one five'"
      ],
      "execution_count": null,
      "outputs": []
    },
    {
      "cell_type": "markdown",
      "metadata": {
        "id": "TVjzVXPKSFNE"
      },
      "source": [
        "4. **[5 points]** Although there exist many naming conventions in computer programming, two of them are particularly widespread. In the first, words in a variable name are separated using underscores. In the second, words in a variable name are written in mixed case, and are strung together without a delimiter. By mixed case, we mean that the first word is written in lowercase, and that subsequent words have a capital first letter. Write a function `to_mixed_case(name)` that converts a variable `name` from the former convention to the latter. Leading and trailing underscores should be ignored. If the variable name consists solely of underscores, then an empty string should be returned.\n",
        "\n"
      ]
    },
    {
      "cell_type": "code",
      "metadata": {
        "id": "vx4LCUUNSJzL"
      },
      "source": [
        "def to_mixed_case(name):\n",
        "    pass"
      ],
      "execution_count": null,
      "outputs": []
    },
    {
      "cell_type": "code",
      "metadata": {
        "id": "vs3oWE6pWKyj"
      },
      "source": [
        "# # Example:\n",
        "# to_mixed_case(\"to_mixed_case\")\n",
        "\n",
        "# # Expected output:\n",
        "# # 'toMixedCase'"
      ],
      "execution_count": null,
      "outputs": []
    },
    {
      "cell_type": "code",
      "metadata": {
        "id": "vLYKR57PWMXn"
      },
      "source": [
        "# # Example:\n",
        "# to_mixed_case(\"__EXAMPLE__NAME__\")\n",
        "\n",
        "# # Expected output:\n",
        "# # 'exampleName'"
      ],
      "execution_count": null,
      "outputs": []
    },
    {
      "cell_type": "markdown",
      "metadata": {
        "id": "RLjrVt6ci-0n"
      },
      "source": [
        "## 5. DataFrames [44 points]\n",
        "In this section you'll get a feel for pandas' DataFrames a datastructure similar to SQL tables that can directly read lists and csvs and supports a number of optimized operations."
      ]
    },
    {
      "cell_type": "markdown",
      "metadata": {
        "id": "RQuSqzQpg4Rk"
      },
      "source": [
        "### 5.1 Manipulating a csv [30 points]\n"
      ]
    },
    {
      "cell_type": "code",
      "metadata": {
        "id": "11tqRwRjjPDP"
      },
      "source": [
        "# first we'll import pandas\n",
        "import pandas as pd"
      ],
      "execution_count": null,
      "outputs": []
    },
    {
      "cell_type": "markdown",
      "metadata": {
        "id": "7BBzP7VT7TVw"
      },
      "source": [
        "1. **[2 points]** In the method `read_file` create a dataframe from the given csv file."
      ]
    },
    {
      "cell_type": "code",
      "metadata": {
        "id": "4jSbGErU7ZED"
      },
      "source": [
        "# hint: look at the pandas method read_csv\n",
        "def read_file(file):\n",
        "    \"\"\"\n",
        "    Returns\n",
        "    -------\n",
        "    Dataframe created from the given file\n",
        "    \"\"\"\n",
        "    pass"
      ],
      "execution_count": null,
      "outputs": []
    },
    {
      "cell_type": "code",
      "metadata": {
        "id": "s6XXVSGjjRxM"
      },
      "source": [
        "df = read_file('batch.csv')"
      ],
      "execution_count": null,
      "outputs": []
    },
    {
      "cell_type": "markdown",
      "metadata": {
        "id": "oULq5P61kOM-"
      },
      "source": [
        "testing.csv is a csv of the results from a batch of HITs on MTurk. With it you can see worker Ids, their answers to each question, as well as their accept and submit times. \n",
        "\n",
        "Comment the cells below out before you submit."
      ]
    },
    {
      "cell_type": "code",
      "metadata": {
        "id": "NcUBr8I2kAu3"
      },
      "source": [
        "# you can also get a smaller glimpse with \n",
        "display (df.head())"
      ],
      "execution_count": null,
      "outputs": []
    },
    {
      "cell_type": "code",
      "metadata": {
        "id": "CLkmAGwUkGCu"
      },
      "source": [
        "# or just the columns with\n",
        "display (df.columns)"
      ],
      "execution_count": null,
      "outputs": []
    },
    {
      "cell_type": "code",
      "metadata": {
        "id": "HdHdDvEU-YP_"
      },
      "source": [
        "# a slice of a dataframe is called a series. for example:\n",
        "display (df['HITId'])"
      ],
      "execution_count": null,
      "outputs": []
    },
    {
      "cell_type": "markdown",
      "metadata": {
        "id": "W_CfaUJ18SY-"
      },
      "source": [
        "2. **[3 points]** Write the method `get_workerId_by_row` that returns the Worker ID at the given row in the dataframe."
      ]
    },
    {
      "cell_type": "code",
      "metadata": {
        "id": "rWmwR6KC4eXv"
      },
      "source": [
        "def get_workerId_by_row(df, row):\n",
        "    pass"
      ],
      "execution_count": null,
      "outputs": []
    },
    {
      "cell_type": "code",
      "metadata": {
        "id": "jLm321SL4zF0"
      },
      "source": [
        "# EXAMPLE\n",
        "# get_workerId_by_row(df, 3)\n",
        "# 'A98E8M4QLI9RS'"
      ],
      "execution_count": null,
      "outputs": []
    },
    {
      "cell_type": "markdown",
      "metadata": {
        "id": "b5vS53dA85b0"
      },
      "source": [
        "3. **[5 points]** In the method `format_date` convert a datetime string from the format Year-Month-Day Hour-Minute-Second to a timestamp in seconds. "
      ]
    },
    {
      "cell_type": "code",
      "metadata": {
        "id": "lhJUDzAm5J83"
      },
      "source": [
        "# TODO \n",
        "# convert the given date into a timestamp (in seconds)\n",
        "def format_date(date):\n",
        "    pass"
      ],
      "execution_count": null,
      "outputs": []
    },
    {
      "cell_type": "code",
      "metadata": {
        "id": "72GOuXPjV_HE"
      },
      "source": [
        "# EXAMPLE\n",
        "# format_date('2020-02-06 23:25:41') -> 26350525.683333334"
      ],
      "execution_count": null,
      "outputs": []
    },
    {
      "cell_type": "markdown",
      "metadata": {
        "id": "i8XZnksr-FlD"
      },
      "source": [
        "4. **[5 points]** Use the `format_date` method to convert each entry in `SubmitTime` and `AcceptTime` into a timestamp. In `convert_times` return the series you get by applying that method to each entry in the given column"
      ]
    },
    {
      "cell_type": "code",
      "metadata": {
        "id": "locQGkg7-fsi"
      },
      "source": [
        "# hint: look at the dataframe apply method\n",
        "def convert_times(df, column):\n",
        "    pass"
      ],
      "execution_count": null,
      "outputs": []
    },
    {
      "cell_type": "code",
      "metadata": {
        "id": "V5K2Skwv_wJa"
      },
      "source": [
        "# comment these out before you submit\n",
        "df['SubmitTime'] = convert_times(df, 'SubmitTime')\n",
        "df['AcceptTime'] = convert_times(df, 'AcceptTime')"
      ],
      "execution_count": null,
      "outputs": []
    },
    {
      "cell_type": "markdown",
      "metadata": {
        "id": "HT_NiDhq99vv"
      },
      "source": [
        "5. **[5 points]** In `get_work_time` figure out how long each worker spent on the batch. Return the series that is the total work time indexed by the worker id."
      ]
    },
    {
      "cell_type": "code",
      "metadata": {
        "id": "A_TO5PiT50Mr"
      },
      "source": [
        "# hint: look at the dataframe groupby function\n",
        "def get_work_time(df):\n",
        "    pass"
      ],
      "execution_count": null,
      "outputs": []
    },
    {
      "cell_type": "code",
      "metadata": {
        "id": "eup_0ZYfWe3O"
      },
      "source": [
        "# EXAMPLE\n",
        "# Should be a series like\n",
        "# Time\n",
        "# Time"
      ],
      "execution_count": null,
      "outputs": []
    },
    {
      "cell_type": "markdown",
      "metadata": {
        "id": "7KDMeRSp_RtU"
      },
      "source": [
        "6. **[10 points]** As we talked about in class workers can use tools to accept batches of HITs at once and then work on them sequentially. We suspect some of the workers in this batch have been using such a tool and that their work times overestimate how long they actually spent working. Write a method to calculate how long each worker actually spent working."
      ]
    },
    {
      "cell_type": "markdown",
      "metadata": {
        "id": "8h_wVppv_8dO"
      },
      "source": [
        "Hint: try to think about a worker's accept and submit times would look like if they were doing this and any overlap you might be able to find."
      ]
    },
    {
      "cell_type": "code",
      "metadata": {
        "id": "i140DAOe7Q6W"
      },
      "source": [
        "def calculated_work_time(df):\n",
        "    pass"
      ],
      "execution_count": null,
      "outputs": []
    },
    {
      "cell_type": "code",
      "metadata": {
        "id": "cfpPd9wuYx93"
      },
      "source": [
        "# EXAMPLE\n",
        "# Series should look the same as above but with different values for some workers"
      ],
      "execution_count": null,
      "outputs": []
    },
    {
      "cell_type": "markdown",
      "metadata": {
        "id": "QauDcvD8DGfN"
      },
      "source": [
        "7. **[0 points]** Here we'll show you how you can plot the data you just looked at.\n",
        "\n",
        "Comment all of this out before you submit."
      ]
    },
    {
      "cell_type": "code",
      "metadata": {
        "id": "HQtCynncEWlS"
      },
      "source": [
        "plot_df = pd.DataFrame()"
      ],
      "execution_count": null,
      "outputs": []
    },
    {
      "cell_type": "code",
      "metadata": {
        "id": "Uk91lSRnCP9d"
      },
      "source": [
        "plot_df['WorkTime'] = get_work_time(df)"
      ],
      "execution_count": null,
      "outputs": []
    },
    {
      "cell_type": "code",
      "metadata": {
        "id": "o3hUNeWqDR09"
      },
      "source": [
        "plot_df['CWorkTime'] = calculated_work_time(df)"
      ],
      "execution_count": null,
      "outputs": []
    },
    {
      "cell_type": "code",
      "metadata": {
        "id": "XhEuWPYJDnpt"
      },
      "source": [
        "plot_df.plot(kind='bar')"
      ],
      "execution_count": null,
      "outputs": []
    },
    {
      "cell_type": "markdown",
      "metadata": {
        "id": "jr9iR91ihR5R"
      },
      "source": [
        "### 5.2 A Simple Program to Read from the Web [14 points]"
      ]
    },
    {
      "cell_type": "markdown",
      "metadata": {
        "id": "axyGkceBhmPO"
      },
      "source": [
        "The cell below uses the Pandas library to read a table from the given web page (the Wikipedia information on films in the year 2010). The code loads this into a list of DataFrames called films_2010. We then pull the table at index 3, then do some simple data wrangling on top_films to set up the appropriate types.\n",
        "\n",
        "Run the cells below."
      ]
    },
    {
      "cell_type": "code",
      "metadata": {
        "colab": {
          "base_uri": "https://localhost:8080/"
        },
        "id": "PhOV5ehZhllQ",
        "outputId": "6f62a0f8-bd4e-40d6-dbeb-6da312791a03"
      },
      "source": [
        "# CAUTION: comment this out before you submit!\n",
        "!pip install money-parser"
      ],
      "execution_count": null,
      "outputs": [
        {
          "output_type": "stream",
          "text": [
            "Collecting money-parser\n",
            "  Downloading https://files.pythonhosted.org/packages/d8/c8/abf8b7bf6d216c8ed23a8427b7f7db221027254d4ca3e906ac4c6b6d2195/money_parser-0.0.1-py3-none-any.whl\n",
            "Installing collected packages: money-parser\n",
            "Successfully installed money-parser-0.0.1\n"
          ],
          "name": "stdout"
        }
      ]
    },
    {
      "cell_type": "code",
      "metadata": {
        "id": "SOno1cZXoh5G"
      },
      "source": [
        "import pandas as pd\n",
        "from money_parser import price_dec"
      ],
      "execution_count": null,
      "outputs": []
    },
    {
      "cell_type": "markdown",
      "metadata": {
        "id": "6pYNyczHixT1"
      },
      "source": [
        "**TODO:** Read in a list of dataframes from the url https://en.wikipedia.org/wiki/2010_in_film\n",
        "\n",
        "*Hint:* Check the pandas documentation"
      ]
    },
    {
      "cell_type": "code",
      "metadata": {
        "id": "Q_oy4SjBFxjn"
      },
      "source": [
        "def read_from_html(url):\n",
        "    pass"
      ],
      "execution_count": null,
      "outputs": []
    },
    {
      "cell_type": "code",
      "metadata": {
        "id": "CgrihX5biol6"
      },
      "source": [
        "films_2010 = read_from_html('https://en.wikipedia.org/wiki/2010_in_film')"
      ],
      "execution_count": null,
      "outputs": []
    },
    {
      "cell_type": "markdown",
      "metadata": {
        "id": "tumwfzR-jfdt"
      },
      "source": [
        "**TODO:** Find the table titled \"Highest-grossing films\"\n",
        "\n",
        "*Hint:* Click on the url, and do some digging! Check out \"Developer Tools\" for the underlying html code and check which  < table >  tag contains the desired data"
      ]
    },
    {
      "cell_type": "code",
      "metadata": {
        "id": "50ZQe0mwip55"
      },
      "source": [
        "def get_film_data(df_list):\n",
        "    pass"
      ],
      "execution_count": null,
      "outputs": []
    },
    {
      "cell_type": "code",
      "metadata": {
        "id": "RyY3UamBHvhB"
      },
      "source": [
        "top_films = get_film_data(films_2010)"
      ],
      "execution_count": null,
      "outputs": []
    },
    {
      "cell_type": "markdown",
      "metadata": {
        "id": "acY9Qu6mjqWe"
      },
      "source": [
        "**TODO:** write a method that sets the 'Rank' column as the index"
      ]
    },
    {
      "cell_type": "code",
      "metadata": {
        "id": "xDBT075HisUi"
      },
      "source": [
        "def set_index(df, column):\n",
        "    pass"
      ],
      "execution_count": null,
      "outputs": []
    },
    {
      "cell_type": "code",
      "metadata": {
        "id": "d6rU4qZZIRoc"
      },
      "source": [
        "top_films_ranked = set_index(top_films, 'Rank')"
      ],
      "execution_count": null,
      "outputs": []
    },
    {
      "cell_type": "markdown",
      "metadata": {
        "id": "OhQfShqIkazZ"
      },
      "source": [
        "**TODO:** write a function that creates a column named 'Revenue (millions)', where the revenue in millions (rounded to 2 decimal places) are to be stored.\n",
        "\n",
        "*Hint:* We recommend you use the imported function from the 'money_parser' module (see above)."
      ]
    },
    {
      "cell_type": "code",
      "metadata": {
        "id": "cl72-HWiIsFw"
      },
      "source": [
        "def extract_revenue(df, column, name):\n",
        "    pass"
      ],
      "execution_count": null,
      "outputs": []
    },
    {
      "cell_type": "code",
      "metadata": {
        "id": "9OJyqGlYitQr"
      },
      "source": [
        "top_films_revenue = extract_revenue(top_films_ranked, 'Worldwide gross', 'Revenue (millions')"
      ],
      "execution_count": null,
      "outputs": []
    },
    {
      "cell_type": "markdown",
      "metadata": {
        "id": "j8mYD0pPht0G"
      },
      "source": [
        "Can we programmatically compute how many entries were scored as top films?\n",
        "\n",
        "You can use the Python shape function on a dataframe to determine the dimensions!\n",
        "To learn more about the shape function, you can search for its pandas documentation. \n",
        "\n",
        "**TODO:** Create a function that calculates the shape of the final dataframe (top_films_revenue) and returns a tuple"
      ]
    },
    {
      "cell_type": "code",
      "metadata": {
        "id": "ZfgUOr42h3tl"
      },
      "source": [
        "def get_dimensions(df):\n",
        "    pass"
      ],
      "execution_count": null,
      "outputs": []
    }
  ]
}