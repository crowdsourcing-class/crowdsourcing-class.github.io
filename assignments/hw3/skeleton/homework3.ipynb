{
  "nbformat": 4,
  "nbformat_minor": 0,
  "metadata": {
    "colab": {
      "name": "homework3.ipynb",
      "version": "0.3.2",
      "provenance": [],
      "collapsed_sections": []
    },
    "kernelspec": {
      "name": "python3",
      "display_name": "Python 3"
    }
  },
  "cells": [
    {
      "metadata": {
        "id": "-DoXWN8VamJa",
        "colab_type": "text"
      },
      "cell_type": "markdown",
      "source": [
        "# Python Bootcamp: Assignment 3 [100 points]\n",
        "\n",
        "This week we will start writing some code! This assignment is designed to be a crash-course to get you up to speed on the level of Python you will need to know in order to do the remainder of the assignments. It's easiest to learn by doing, so please start early so we can help you get on board. You want to spend the semester focusing on the crowdsourcing and machine learning, not the indenting and semicoloning."
      ]
    },
    {
      "metadata": {
        "id": "5p5mAqq8ZNh3",
        "colab_type": "text"
      },
      "cell_type": "markdown",
      "source": [
        "## 1. Working with Lists [15 points]\n",
        "\n",
        "1. **[5 points]** Consider the function `extract_and_apply(l, p, f)` shown below, which extracts the elements of a list `l` satisfying a boolean predicate `p`, applies a function f to each such element, and returns the result.\n",
        "\n",
        "  Rewrite `extract_and_apply(l, p, f)` in one line using a list comprehension."
      ]
    },
    {
      "metadata": {
        "id": "VaIiupCGOs05",
        "colab_type": "code",
        "colab": {}
      },
      "cell_type": "code",
      "source": [
        "def extract_and_apply(l, p, f):\n",
        "     result = []\n",
        "     for x in l:\n",
        "         if p(x):\n",
        "             result.append(f(x))\n",
        "     return result"
      ],
      "execution_count": 0,
      "outputs": []
    },
    {
      "metadata": {
        "id": "O2SPSqSNJzkw",
        "colab_type": "code",
        "colab": {}
      },
      "cell_type": "code",
      "source": [
        "def extract_and_apply(l, p, f):\n",
        "    pass"
      ],
      "execution_count": 0,
      "outputs": []
    },
    {
      "metadata": {
        "id": "SfgvlZJ2avES",
        "colab_type": "code",
        "colab": {}
      },
      "cell_type": "code",
      "source": [
        "# # Example:\n",
        "# l = [1, 2, 3, 4]\n",
        "# p = lambda x: x % 2 == 0\n",
        "# f = lambda x: x\n",
        "# extract_and_apply(l, p, f)\n",
        "\n",
        "# # Expected output:\n",
        "# # [2, 4]"
      ],
      "execution_count": 0,
      "outputs": []
    },
    {
      "metadata": {
        "id": "Nec_sUYwOWBk",
        "colab_type": "text"
      },
      "cell_type": "markdown",
      "source": [
        "2. **[5 points]** Write a function `concatenate(seqs)` that returns a list containing the concatenation of the elements of the input sequences. Your implementation should consist of a single list comprehension, and should not exceed one line.\n",
        "\n"
      ]
    },
    {
      "metadata": {
        "id": "4p-SsgwCaNNL",
        "colab_type": "code",
        "colab": {}
      },
      "cell_type": "code",
      "source": [
        "def concatenate(seqs):\n",
        "    pass"
      ],
      "execution_count": 0,
      "outputs": []
    },
    {
      "metadata": {
        "id": "Eh_BZSUIOmQM",
        "colab_type": "code",
        "colab": {}
      },
      "cell_type": "code",
      "source": [
        "# # Example:\n",
        "# concatenate([[1, 2], [3, 4]])\n",
        "\n",
        "# # Expected output:\n",
        "# # [1, 2, 3, 4]"
      ],
      "execution_count": 0,
      "outputs": []
    },
    {
      "metadata": {
        "id": "1idmVGakO6Y7",
        "colab_type": "code",
        "colab": {}
      },
      "cell_type": "code",
      "source": [
        "# # Example:\n",
        "# concatenate([\"abc\", (0, [0])])\n",
        "\n",
        "# # Expected output:\n",
        "# # ['a', 'b', 'c', 0, [0]]"
      ],
      "execution_count": 0,
      "outputs": []
    },
    {
      "metadata": {
        "id": "bxE4OG0sO_mL",
        "colab_type": "text"
      },
      "cell_type": "markdown",
      "source": [
        "3. **[5 points]** Write a function `transpose(matrix)` that returns the transpose of the input matrix, which is represented as a list of lists. Recall that the transpose of a matrix is obtained by swapping its rows with its columns. More concretely, the equality `matrix[i][j] == transpose(matrix)[j][i`] should hold for all valid indices `i` and `j`. You may assume that the input matrix is well-formed, i.e., that each row is of equal length. You may further assume that the input matrix is non-empty. Your function should not modify the input."
      ]
    },
    {
      "metadata": {
        "id": "xXgNgjIgO9zu",
        "colab_type": "code",
        "colab": {}
      },
      "cell_type": "code",
      "source": [
        "def transpose(matrix):\n",
        "    pass"
      ],
      "execution_count": 0,
      "outputs": []
    },
    {
      "metadata": {
        "id": "6RuBAwyNQgAq",
        "colab_type": "code",
        "colab": {}
      },
      "cell_type": "code",
      "source": [
        "# # Example:\n",
        "# transpose([[1, 2, 3]])\n",
        "\n",
        "# # Expected output:\n",
        "# # [[1], [2], [3]]"
      ],
      "execution_count": 0,
      "outputs": []
    },
    {
      "metadata": {
        "id": "abVIxUH4Qm_y",
        "colab_type": "code",
        "colab": {}
      },
      "cell_type": "code",
      "source": [
        "# # Example:\n",
        "# transpose([[1, 2], [3, 4], [5, 6]])\n",
        "\n",
        "# # Expected output:\n",
        "# # [[1, 3, 5], [2, 4, 6]]"
      ],
      "execution_count": 0,
      "outputs": []
    },
    {
      "metadata": {
        "id": "BPVQUfMZPVH8",
        "colab_type": "text"
      },
      "cell_type": "markdown",
      "source": [
        "## 2. Sequence Slicing [9 points]\n",
        "\n",
        "The functions in this section should be implemented using sequence slices. Recall that the slice parameters take on sensible default values when omitted. In some cases, it may be necessary to use the optional third parameter to specify a step size."
      ]
    },
    {
      "metadata": {
        "id": "8F8xbe22PrjN",
        "colab_type": "text"
      },
      "cell_type": "markdown",
      "source": [
        "1. **[3 points]** Write a function `copy(seq)` that returns a new sequence containing the same elements as the input sequence."
      ]
    },
    {
      "metadata": {
        "id": "_c8quuKaP1kr",
        "colab_type": "code",
        "colab": {}
      },
      "cell_type": "code",
      "source": [
        "def copy(seq):\n",
        "    pass"
      ],
      "execution_count": 0,
      "outputs": []
    },
    {
      "metadata": {
        "id": "fDwiXbgSQ2kl",
        "colab_type": "code",
        "colab": {}
      },
      "cell_type": "code",
      "source": [
        "# # Example:\n",
        "# copy(\"abc\")\n",
        "\n",
        "# # Expected output:\n",
        "# # 'abc'"
      ],
      "execution_count": 0,
      "outputs": []
    },
    {
      "metadata": {
        "id": "AgJniWKiTo50",
        "colab_type": "code",
        "colab": {}
      },
      "cell_type": "code",
      "source": [
        "# # Example:\n",
        "# copy((1, 2, 3))\n",
        "\n",
        "# # Expected output:\n",
        "# #  (1, 2, 3)"
      ],
      "execution_count": 0,
      "outputs": []
    },
    {
      "metadata": {
        "id": "B3x-6vYgTt9_",
        "colab_type": "code",
        "colab": {}
      },
      "cell_type": "code",
      "source": [
        "# # Example:\n",
        "# x = [0, 0, 0]\n",
        "# y = copy(x)\n",
        "# print(x, y)\n",
        "\n",
        "# x[0] = 1\n",
        "# print(x, y)\n",
        "\n",
        "# # Expected output:\n",
        "# # [0, 0, 0] [0, 0, 0]\n",
        "# # [1, 0, 0] [0, 0, 0]"
      ],
      "execution_count": 0,
      "outputs": []
    },
    {
      "metadata": {
        "id": "EWFsSPU9P8qk",
        "colab_type": "text"
      },
      "cell_type": "markdown",
      "source": [
        "2. **[3 points]** Write a function `all_but_last(seq)` that returns a new sequence containing all but the last element of the input sequence. If the input sequence is empty, a new empty sequence of the same type should be returned."
      ]
    },
    {
      "metadata": {
        "id": "9jwUCABhQrDc",
        "colab_type": "code",
        "colab": {}
      },
      "cell_type": "code",
      "source": [
        "def all_but_last(seq):\n",
        "    pass"
      ],
      "execution_count": 0,
      "outputs": []
    },
    {
      "metadata": {
        "id": "QX5KvmFoUBE_",
        "colab_type": "code",
        "colab": {}
      },
      "cell_type": "code",
      "source": [
        "# # Example:\n",
        "# all_but_last(\"abc\")\n",
        "\n",
        "# # Expected output:\n",
        "# # 'ab'"
      ],
      "execution_count": 0,
      "outputs": []
    },
    {
      "metadata": {
        "id": "FP1-RCwNUBnG",
        "colab_type": "code",
        "colab": {}
      },
      "cell_type": "code",
      "source": [
        "# # Example:\n",
        "# all_but_last((1, 2, 3))\n",
        "\n",
        "# # Expected output:\n",
        "# # (1, 2)"
      ],
      "execution_count": 0,
      "outputs": []
    },
    {
      "metadata": {
        "id": "6grrejDpUFVc",
        "colab_type": "code",
        "colab": {}
      },
      "cell_type": "code",
      "source": [
        "# # Example:\n",
        "# all_but_last(\"\")\n",
        "\n",
        "# # Expected output:\n",
        "# # ''"
      ],
      "execution_count": 0,
      "outputs": []
    },
    {
      "metadata": {
        "id": "PPy1_MmaUFxc",
        "colab_type": "code",
        "colab": {}
      },
      "cell_type": "code",
      "source": [
        "# # Example:\n",
        "# all_but_last([])\n",
        "\n",
        "# # Expected output:\n",
        "# # []"
      ],
      "execution_count": 0,
      "outputs": []
    },
    {
      "metadata": {
        "id": "mlazyiLVQA90",
        "colab_type": "text"
      },
      "cell_type": "markdown",
      "source": [
        "3. **[3 points]** Write a function `every_other(seq)` that returns a new sequence containing every other element of the input sequence, starting with the first. This function can be written in one line using the optional third parameter of the slice notation."
      ]
    },
    {
      "metadata": {
        "id": "HjMNQZg2P_9A",
        "colab_type": "code",
        "colab": {}
      },
      "cell_type": "code",
      "source": [
        "def every_other(seq):\n",
        "    pass"
      ],
      "execution_count": 0,
      "outputs": []
    },
    {
      "metadata": {
        "id": "IHruD_R_QGfh",
        "colab_type": "code",
        "colab": {}
      },
      "cell_type": "code",
      "source": [
        "# # Example:\n",
        "# every_other([1, 2, 3, 4, 5])\n",
        "\n",
        "# # Expected output:\n",
        "# # [1, 3, 5]"
      ],
      "execution_count": 0,
      "outputs": []
    },
    {
      "metadata": {
        "id": "9tqzrxB-USB9",
        "colab_type": "code",
        "colab": {}
      },
      "cell_type": "code",
      "source": [
        "# # Example:\n",
        "# every_other(\"abcde\")\n",
        "\n",
        "# # Expected output:\n",
        "# # 'ace'"
      ],
      "execution_count": 0,
      "outputs": []
    },
    {
      "metadata": {
        "id": "-uQO2ygIUWqV",
        "colab_type": "code",
        "colab": {}
      },
      "cell_type": "code",
      "source": [
        "# # Example:\n",
        "# every_other([1, 2, 3, 4, 5, 6])\n",
        "\n",
        "# # Expected output:\n",
        "# # [1, 3, 5]"
      ],
      "execution_count": 0,
      "outputs": []
    },
    {
      "metadata": {
        "id": "st2VKKSwUXJx",
        "colab_type": "code",
        "colab": {}
      },
      "cell_type": "code",
      "source": [
        "# # Example:\n",
        "# every_other(\"abcdef\")\n",
        "\n",
        "# # Expected output:\n",
        "# # 'ace'"
      ],
      "execution_count": 0,
      "outputs": []
    },
    {
      "metadata": {
        "id": "eDAwdnKrQ7vw",
        "colab_type": "text"
      },
      "cell_type": "markdown",
      "source": [
        "## 3. Combinatorial Algorithms [12 points]\n",
        "\n",
        "The functions in this section should be implemented as generators. You may generate the output in any order you find convenient, as long as the correct elements are produced. However, in some cases, you may find that the order of the example output hints at a possible implementation.\n",
        "\n",
        "Although generators in Python can be used in a variety of ways, you will not need to use any of their more sophisticated features here. Simply keep in mind that where you might normally return a list of elements, you should instead yield the individual elements.\n",
        "\n",
        "Since the contents of a generator cannot be viewed without employing some form of iteration, we wrap all function calls in this section’s examples with the list function for convenience."
      ]
    },
    {
      "metadata": {
        "id": "yYtgo8_pRIGD",
        "colab_type": "text"
      },
      "cell_type": "markdown",
      "source": [
        "1. **[6 points]** The prefixes of a sequence include the empty sequence, the first element, the first two elements, etc., up to and including the full sequence itself. Similarly, the suffixes of a sequence include the empty sequence, the last element, the last two elements, etc., up to and including the full sequence itself. Write a pair of functions `prefixes(seq)` and `suffixes(seq)` that yield all prefixes and suffixes of the input sequence."
      ]
    },
    {
      "metadata": {
        "id": "UMGYij6TRS3t",
        "colab_type": "code",
        "colab": {}
      },
      "cell_type": "code",
      "source": [
        "def prefixes(seq):\n",
        "    pass"
      ],
      "execution_count": 0,
      "outputs": []
    },
    {
      "metadata": {
        "id": "JM_wRlleRdt3",
        "colab_type": "code",
        "colab": {}
      },
      "cell_type": "code",
      "source": [
        "def suffixes(seq):\n",
        "    pass"
      ],
      "execution_count": 0,
      "outputs": []
    },
    {
      "metadata": {
        "id": "I-LDSa0eUwn5",
        "colab_type": "code",
        "colab": {}
      },
      "cell_type": "code",
      "source": [
        "# # Example:\n",
        "# list(prefixes([1, 2, 3]))\n",
        "\n",
        "# # Expected output:\n",
        "# # [[], [1], [1, 2], [1, 2, 3]]"
      ],
      "execution_count": 0,
      "outputs": []
    },
    {
      "metadata": {
        "id": "GoMR516HUxm7",
        "colab_type": "code",
        "colab": {}
      },
      "cell_type": "code",
      "source": [
        "# # Example:\n",
        "# list(suffixes([1, 2, 3]))\n",
        "\n",
        "# # Expected output:\n",
        "# # [[1, 2, 3], [2, 3], [3], []]"
      ],
      "execution_count": 0,
      "outputs": []
    },
    {
      "metadata": {
        "id": "wXn7fZB7Uzq7",
        "colab_type": "code",
        "colab": {}
      },
      "cell_type": "code",
      "source": [
        "# # Example:\n",
        "# list(prefixes(\"abc\"))\n",
        "\n",
        "# # Expected output:\n",
        "# # ['', 'a', 'ab', 'abc']"
      ],
      "execution_count": 0,
      "outputs": []
    },
    {
      "metadata": {
        "id": "LvzQVX5iU071",
        "colab_type": "code",
        "colab": {}
      },
      "cell_type": "code",
      "source": [
        "# # Example:\n",
        "# list(suffixes(\"abc\"))\n",
        "\n",
        "# # Expected output:\n",
        "# # ['abc', 'bc', 'c', '']"
      ],
      "execution_count": 0,
      "outputs": []
    },
    {
      "metadata": {
        "id": "UnIWnd7bRVpC",
        "colab_type": "text"
      },
      "cell_type": "markdown",
      "source": [
        "2. **[6 points]** Write a function `slices(seq)` that yields all non-empty slices of the input sequence."
      ]
    },
    {
      "metadata": {
        "id": "k2lmNjY9RaFy",
        "colab_type": "code",
        "colab": {}
      },
      "cell_type": "code",
      "source": [
        "def slices(seq):\n",
        "    pass"
      ],
      "execution_count": 0,
      "outputs": []
    },
    {
      "metadata": {
        "id": "BQRgX51NVEE4",
        "colab_type": "code",
        "colab": {}
      },
      "cell_type": "code",
      "source": [
        "# # Example:\n",
        "# list(slices([1, 2, 3]))\n",
        "\n",
        "# # Expected output:\n",
        "# # [[1], [1, 2], [1, 2, 3], [2], [2, 3], [3]]"
      ],
      "execution_count": 0,
      "outputs": []
    },
    {
      "metadata": {
        "id": "C5qnTbTgVFta",
        "colab_type": "code",
        "colab": {}
      },
      "cell_type": "code",
      "source": [
        "# # Example:\n",
        "# list(slices(\"abc\"))\n",
        "\n",
        "# # Expected output:\n",
        "# # ['a', 'ab', 'abc', 'b', 'bc', 'c']"
      ],
      "execution_count": 0,
      "outputs": []
    },
    {
      "metadata": {
        "id": "XeIbx4rqRmUO",
        "colab_type": "text"
      },
      "cell_type": "markdown",
      "source": [
        "## 4. Text Processing [20 points]"
      ]
    },
    {
      "metadata": {
        "id": "S2gAcwQZRrcv",
        "colab_type": "text"
      },
      "cell_type": "markdown",
      "source": [
        "1. **[5 points]** A common preprocessing step in many natural language processing tasks is text normalization, wherein words are converted to lowercase, extraneous whitespace is removed, etc. Write a function `normalize(text)` that returns a normalized version of the input string, in which all words have been converted to lowercase and are separated by a single space. No leading or trailing whitespace should be present in the output."
      ]
    },
    {
      "metadata": {
        "id": "Ex7WetNTRvLm",
        "colab_type": "code",
        "colab": {}
      },
      "cell_type": "code",
      "source": [
        "def normalize(text):\n",
        "    pass"
      ],
      "execution_count": 0,
      "outputs": []
    },
    {
      "metadata": {
        "id": "d-kXSmbsVx0i",
        "colab_type": "code",
        "colab": {}
      },
      "cell_type": "code",
      "source": [
        "# # Example:\n",
        "# normalize(\"This is an example.\")\n",
        "\n",
        "# # Expected output:\n",
        "# # 'this is an example.'"
      ],
      "execution_count": 0,
      "outputs": []
    },
    {
      "metadata": {
        "id": "qfHFoK8hVzOp",
        "colab_type": "code",
        "colab": {}
      },
      "cell_type": "code",
      "source": [
        "# # Example:\n",
        "# normalize(\"   EXTRA   SPACE   \")\n",
        "\n",
        "# # Expected output:\n",
        "# # 'extra space'"
      ],
      "execution_count": 0,
      "outputs": []
    },
    {
      "metadata": {
        "id": "nERQLA3_RxPy",
        "colab_type": "text"
      },
      "cell_type": "markdown",
      "source": [
        "2. **[5 points]** Write a function `no_vowels(text)` that removes all vowels from the input string and returns the result. For the purposes of this problem, the letter ‘y’ is not considered to be a vowel.\n",
        "\n"
      ]
    },
    {
      "metadata": {
        "id": "IMg2KKn5R5Jf",
        "colab_type": "code",
        "colab": {}
      },
      "cell_type": "code",
      "source": [
        "def no_vowels(text):\n",
        "    pass"
      ],
      "execution_count": 0,
      "outputs": []
    },
    {
      "metadata": {
        "id": "b58SNc5fV5PY",
        "colab_type": "code",
        "colab": {}
      },
      "cell_type": "code",
      "source": [
        "# # Example:\n",
        "# no_vowels(\"This Is An Example.\")\n",
        "\n",
        "# # Expected output:\n",
        "# # 'Ths s n xmpl.'"
      ],
      "execution_count": 0,
      "outputs": []
    },
    {
      "metadata": {
        "id": "cum2PhkwV6zI",
        "colab_type": "code",
        "colab": {}
      },
      "cell_type": "code",
      "source": [
        "# # Example:\n",
        "# no_vowels(\"We love Python!\")\n",
        "\n",
        "# # Expected output:\n",
        "# # 'W lv Pythn!'"
      ],
      "execution_count": 0,
      "outputs": []
    },
    {
      "metadata": {
        "id": "NXuzhUvbR1pm",
        "colab_type": "text"
      },
      "cell_type": "markdown",
      "source": [
        "3. **[5 points]** Write a function `digits_to_words(text)` that extracts all digits from the input string, spells them out as lowercase English words, and returns a new string in which they are each separated by a single space. If the input string contains no digits, then an empty string should be returned."
      ]
    },
    {
      "metadata": {
        "id": "x_s2GQraR-g7",
        "colab_type": "code",
        "colab": {}
      },
      "cell_type": "code",
      "source": [
        "def digits_to_words(text):\n",
        "    pass"
      ],
      "execution_count": 0,
      "outputs": []
    },
    {
      "metadata": {
        "id": "QGnzPb7dV-Gr",
        "colab_type": "code",
        "colab": {}
      },
      "cell_type": "code",
      "source": [
        "# # Example:\n",
        "# digits_to_words(\"Zip Code: 19104\")\n",
        "\n",
        "# # Expected output:\n",
        "# # 'one nine one zero four'"
      ],
      "execution_count": 0,
      "outputs": []
    },
    {
      "metadata": {
        "id": "Y-Ig9XxVWAa5",
        "colab_type": "code",
        "colab": {}
      },
      "cell_type": "code",
      "source": [
        "# # Example:\n",
        "# digits_to_words(\"Pi is 3.1415...\")\n",
        "\n",
        "# # Expected output:\n",
        "# # 'three one four one five'"
      ],
      "execution_count": 0,
      "outputs": []
    },
    {
      "metadata": {
        "id": "TVjzVXPKSFNE",
        "colab_type": "text"
      },
      "cell_type": "markdown",
      "source": [
        "4. **[5 points]** Although there exist many naming conventions in computer programming, two of them are particularly widespread. In the first, words in a variable name are separated using underscores. In the second, words in a variable name are written in mixed case, and are strung together without a delimiter. By mixed case, we mean that the first word is written in lowercase, and that subsequent words have a capital first letter. Write a function `to_mixed_case(name)` that converts a variable `name` from the former convention to the latter. Leading and trailing underscores should be ignored. If the variable name consists solely of underscores, then an empty string should be returned.\n",
        "\n"
      ]
    },
    {
      "metadata": {
        "id": "vx4LCUUNSJzL",
        "colab_type": "code",
        "colab": {}
      },
      "cell_type": "code",
      "source": [
        "def to_mixed_case(name):\n",
        "    pass"
      ],
      "execution_count": 0,
      "outputs": []
    },
    {
      "metadata": {
        "id": "vs3oWE6pWKyj",
        "colab_type": "code",
        "colab": {}
      },
      "cell_type": "code",
      "source": [
        "# # Example:\n",
        "# to_mixed_case(\"to_mixed_case\")\n",
        "\n",
        "# # Expected output:\n",
        "# # 'toMixedCase'"
      ],
      "execution_count": 0,
      "outputs": []
    },
    {
      "metadata": {
        "id": "vLYKR57PWMXn",
        "colab_type": "code",
        "colab": {}
      },
      "cell_type": "code",
      "source": [
        "# # Example:\n",
        "# to_mixed_case(\"__EXAMPLE__NAME__\")\n",
        "\n",
        "# # Expected output:\n",
        "# # 'exampleName'"
      ],
      "execution_count": 0,
      "outputs": []
    },
    {
      "metadata": {
        "id": "PSnNxVppWYG5",
        "colab_type": "text"
      },
      "cell_type": "markdown",
      "source": [
        "## 5. Polynomials [44 points]\n",
        "\n",
        "In this section, you will implement a simple Polynomial class supporting basic arithmetic, simplification, evaluation, and pretty-printing. \n",
        "\n"
      ]
    },
    {
      "metadata": {
        "id": "5a_Sp5HoXOgA",
        "colab_type": "code",
        "colab": {}
      },
      "cell_type": "code",
      "source": [
        "class Polynomial(object):\n",
        "\n",
        "    def __init__(self, polynomial):\n",
        "        pass\n",
        "\n",
        "    def get_polynomial(self):\n",
        "        pass\n",
        "\n",
        "    def __neg__(self):\n",
        "        pass\n",
        "\n",
        "    def __add__(self, other):\n",
        "        pass\n",
        "\n",
        "    def __sub__(self, other):\n",
        "        pass\n",
        "\n",
        "    def __mul__(self, other):\n",
        "        pass\n",
        "\n",
        "    def __call__(self, x):\n",
        "        pass\n",
        "\n",
        "    def simplify(self):\n",
        "        pass\n",
        "\n",
        "    def __str__(self):\n",
        "        pass"
      ],
      "execution_count": 0,
      "outputs": []
    },
    {
      "metadata": {
        "id": "kugmX-szXU4S",
        "colab_type": "text"
      },
      "cell_type": "markdown",
      "source": [
        "An example demonstrating these capabilities is shown below."
      ]
    },
    {
      "metadata": {
        "id": "iYKqNXyxWr7h",
        "colab_type": "code",
        "colab": {}
      },
      "cell_type": "code",
      "source": [
        "# # Example:\n",
        "# p, q = Polynomial([(2, 1), (1, 0)]), Polynomial([(2, 1), (-1, 0)])\n",
        "# print(p)\n",
        "# print(q)\n",
        "\n",
        "# r = (p * p) + (q * q) - (p * q)\n",
        "# print(r)\n",
        "\n",
        "# r.simplify()\n",
        "# print(r)\n",
        "\n",
        "# [(x, r(x)) for x in range(-4, 5)]\n",
        "\n",
        "# # Expected output:\n",
        "# # 2x + 1\n",
        "# # 2x - 1\n",
        "# # 4x^2 + 2x + 2x + 1 + 4x^2 - 2x - 2x + 1 - 4x^2 + 2x - 2x + 1\n",
        "# # 4x^2 + 3\n",
        "# # [(-4, 67),\n",
        "# #  (-3, 39),\n",
        "# #  (-2, 19),\n",
        "# #  (-1, 7),\n",
        "# #  (0, 3),\n",
        "# #  (1, 7),\n",
        "# #  (2, 19),\n",
        "# #  (3, 39),\n",
        "# #  (4, 67)]"
      ],
      "execution_count": 0,
      "outputs": []
    },
    {
      "metadata": {
        "id": "zuXTkAV5W9_o",
        "colab_type": "text"
      },
      "cell_type": "markdown",
      "source": [
        "1. **[4 points]** In this problem, we will think of a polynomial as an immutable object, represented internally as a tuple of coefficient-power pairs. For instance, the polynomial 2x+1 would be represented internally by the tuple `((2, 1), (1, 0))`. Write an initialization method `__init__(self, polynomial)` that converts the input sequence polynomial of coefficient-power pairs into a tuple and saves it for future use. Also write a corresponding method `get_polynomial(self)` that returns this internal representation.\n",
        "\n"
      ]
    },
    {
      "metadata": {
        "id": "ygDLVhRXWu-4",
        "colab_type": "code",
        "colab": {}
      },
      "cell_type": "code",
      "source": [
        "# # Example:\n",
        "# p = Polynomial([(2, 1), (1, 0)])\n",
        "# p.get_polynomial()\n",
        "\n",
        "# # Expected output:\n",
        "# # ((2, 1), (1, 0))"
      ],
      "execution_count": 0,
      "outputs": []
    },
    {
      "metadata": {
        "id": "9Ma9Jra0XI-F",
        "colab_type": "code",
        "colab": {}
      },
      "cell_type": "code",
      "source": [
        "# # Example:\n",
        "# p = Polynomial(((2, 1), (1, 0)))\n",
        "# p.get_polynomial()\n",
        "\n",
        "# # Expected output:\n",
        "# # ((2, 1), (1, 0))"
      ],
      "execution_count": 0,
      "outputs": []
    },
    {
      "metadata": {
        "id": "B3Byk5gYXhYg",
        "colab_type": "text"
      },
      "cell_type": "markdown",
      "source": [
        "2. **[4 points]** Write a `__neg__(self)` method that returns a new polynomial equal to the negation of self. This method will be used by Python for unary negation.\n",
        "\n"
      ]
    },
    {
      "metadata": {
        "id": "iFUM-4vyXe-u",
        "colab_type": "code",
        "colab": {}
      },
      "cell_type": "code",
      "source": [
        "# # Example:\n",
        "# p = Polynomial([(2, 1), (1, 0)])\n",
        "# q = -p\n",
        "# q.get_polynomial()\n",
        "\n",
        "# # Expected output:\n",
        "# # ((-2, 1), (-1, 0))"
      ],
      "execution_count": 0,
      "outputs": []
    },
    {
      "metadata": {
        "id": "6NOd_4whXr60",
        "colab_type": "code",
        "colab": {}
      },
      "cell_type": "code",
      "source": [
        "# # Example:\n",
        "# p = Polynomial([(2, 1), (1, 0)])\n",
        "# q = -(-p)\n",
        "# q.get_polynomial()\n",
        "\n",
        "# # Expected output:\n",
        "# # ((2, 1), (1, 0))"
      ],
      "execution_count": 0,
      "outputs": []
    },
    {
      "metadata": {
        "id": "tZzIUlwuXwc-",
        "colab_type": "text"
      },
      "cell_type": "markdown",
      "source": [
        "3. **[3 points]** Write an `__add__(self, other)` method that returns a new polynomial equal to the sum of self and other. This method will be used by Python for addition. No simplification should be performed on the result."
      ]
    },
    {
      "metadata": {
        "id": "cSKsffm2XvO0",
        "colab_type": "code",
        "colab": {}
      },
      "cell_type": "code",
      "source": [
        "# # Example:\n",
        "# p = Polynomial([(2, 1), (1, 0)])\n",
        "# q = p + p\n",
        "# q.get_polynomial()\n",
        "\n",
        "# # Expected output:\n",
        "# # ((2, 1), (1, 0), (2, 1), (1, 0))"
      ],
      "execution_count": 0,
      "outputs": []
    },
    {
      "metadata": {
        "id": "swFfO6rSX-Ue",
        "colab_type": "code",
        "colab": {}
      },
      "cell_type": "code",
      "source": [
        "# # Example:\n",
        "# p = Polynomial([(2, 1), (1, 0)])\n",
        "# q = Polynomial([(4, 3), (3, 2)])\n",
        "# r = p + q\n",
        "# r.get_polynomial()\n",
        "\n",
        "# # Expected output:\n",
        "# # ((2, 1), (1, 0), (4, 3), (3, 2))"
      ],
      "execution_count": 0,
      "outputs": []
    },
    {
      "metadata": {
        "id": "hpxu2xVYYDiG",
        "colab_type": "text"
      },
      "cell_type": "markdown",
      "source": [
        "4. **[3 points]** Write a `__sub__(self, other)` method that returns a new polynomial equal to the difference between self and other. This method will be used by Python for subtraction. No simplification should be performed on the result.\n",
        "\n"
      ]
    },
    {
      "metadata": {
        "id": "IqvWkgjsYINx",
        "colab_type": "code",
        "colab": {}
      },
      "cell_type": "code",
      "source": [
        "# # Example:\n",
        "# p = Polynomial([(2, 1), (1, 0)])\n",
        "# q = p - p; q.get_polynomial()\n",
        "\n",
        "# # Expected output:\n",
        "# # ((2, 1), (1, 0), (-2, 1), (-1, 0))"
      ],
      "execution_count": 0,
      "outputs": []
    },
    {
      "metadata": {
        "id": "zsvCpvWRYNRz",
        "colab_type": "code",
        "colab": {}
      },
      "cell_type": "code",
      "source": [
        "# # Example:\n",
        "# p = Polynomial([(2, 1), (1, 0)])\n",
        "# q = Polynomial([(4, 3), (3, 2)])\n",
        "# r = p - q\n",
        "# r.get_polynomial()\n",
        "\n",
        "# # Expected output:\n",
        "# # ((2, 1), (1, 0), (-4, 3), (-3, 2))"
      ],
      "execution_count": 0,
      "outputs": []
    },
    {
      "metadata": {
        "id": "0Z63NG9OYVsO",
        "colab_type": "text"
      },
      "cell_type": "markdown",
      "source": [
        "5. **[5 points]** Write a `__mul__(self, other)` method that returns a new polynomial equal to the product of self and other. This method will be used by Python for multiplication. No simplification should be performed on the result. Your result does not need to match the examples below exactly, as long as the same terms are present in some order.\n",
        "\n"
      ]
    },
    {
      "metadata": {
        "id": "kNADEfQEYZzg",
        "colab_type": "code",
        "colab": {}
      },
      "cell_type": "code",
      "source": [
        "# # Example:\n",
        "# p = Polynomial([(2, 1), (1, 0)])\n",
        "# q = p * p; q.get_polynomial()\n",
        "\n",
        "# # Expected output:\n",
        "# # ((4, 2), (2, 1), (2, 1), (1, 0))"
      ],
      "execution_count": 0,
      "outputs": []
    },
    {
      "metadata": {
        "id": "gXqNQXdMYftX",
        "colab_type": "code",
        "colab": {}
      },
      "cell_type": "code",
      "source": [
        "# # Example:\n",
        "# p = Polynomial([(2, 1), (1, 0)])\n",
        "# q = Polynomial([(4, 3), (3, 2)])\n",
        "# r = p * q\n",
        "# r.get_polynomial()\n",
        "\n",
        "# # Expected output:\n",
        "# # ((8, 4), (6, 3), (4, 3), (3, 2))"
      ],
      "execution_count": 0,
      "outputs": []
    },
    {
      "metadata": {
        "id": "Df9eVtvvYm8K",
        "colab_type": "text"
      },
      "cell_type": "markdown",
      "source": [
        "6. **[5 points]** Write a `__call__(self, x)` method that returns the result of evaluating the current polynomial at the point x. This method will be used by Python when a polynomial is called as a function. *Hint: This method can be written in one line using Python’s exponentiation operator, `**`, and the built-in sum function.*\n",
        "\n"
      ]
    },
    {
      "metadata": {
        "id": "EJjUUwdiY6Zm",
        "colab_type": "code",
        "colab": {}
      },
      "cell_type": "code",
      "source": [
        "# # Example:\n",
        "# p = Polynomial([(2, 1), (1, 0)])\n",
        "# [p(x) for x in range(5)]\n",
        "\n",
        "# # Expected output:\n",
        "# # [1, 3, 5, 7, 9]"
      ],
      "execution_count": 0,
      "outputs": []
    },
    {
      "metadata": {
        "id": "LkUEEIgRZCOD",
        "colab_type": "code",
        "colab": {}
      },
      "cell_type": "code",
      "source": [
        "# # Example:\n",
        "# p = Polynomial([(2, 1), (1, 0)])\n",
        "# q = -(p * p) + p\n",
        "# [q(x) for x in range(5)]\n",
        "\n",
        "# # Expected output:\n",
        "# # [0, -6, -20, -42, -72]"
      ],
      "execution_count": 0,
      "outputs": []
    },
    {
      "metadata": {
        "id": "_0IcuKw8ZHEH",
        "colab_type": "text"
      },
      "cell_type": "markdown",
      "source": [
        "7. **[10 points]** Write a `simplify(self)` method that replaces the polynomial’s internal representation with an equivalent, simplified representation. Unlike the previous methods, `simplify(self)` does not return a new polynomial, but rather acts in place. However, because the fundamental character of the polynomial is not changing, we do not consider this to violate the notion that polynomials are immutable.\n",
        "\n",
        "  The simplification process should begin by combining terms with a common power. Then, terms with a coefficient of zero should be removed, and the remaining terms should be sorted in decreasing order based on their power. In the event that all terms have a coefficient of zero after the first step, the polynomial should be simplified to the single term $0⋅x^0$, i.e. `(0, 0)`."
      ]
    },
    {
      "metadata": {
        "id": "pT2lMAe7ZThU",
        "colab_type": "code",
        "colab": {}
      },
      "cell_type": "code",
      "source": [
        "# # Example:\n",
        "# p = Polynomial([(2, 1), (1, 0)])\n",
        "# q = -p + (p * p)\n",
        "# print(q.get_polynomial())\n",
        "\n",
        "# q.simplify()\n",
        "# print(q.get_polynomial())\n",
        "\n",
        "# # Expected output:\n",
        "# # ((-2, 1), (-1, 0), (4, 2), (2, 1), (2, 1), (1, 0))\n",
        "# # ((4, 2), (2, 1))"
      ],
      "execution_count": 0,
      "outputs": []
    },
    {
      "metadata": {
        "id": "i0SVIf0RZjcR",
        "colab_type": "code",
        "colab": {}
      },
      "cell_type": "code",
      "source": [
        "# # Example:\n",
        "# p = Polynomial([(2, 1), (1, 0)])\n",
        "# q = p - p\n",
        "# print(q.get_polynomial())\n",
        "\n",
        "# q.simplify()\n",
        "# print(q.get_polynomial())\n",
        "\n",
        "# # Expected output:\n",
        "# # ((2, 1), (1, 0), (-2, 1), (-1, 0))\n",
        "# # ((0, 0),)"
      ],
      "execution_count": 0,
      "outputs": []
    },
    {
      "metadata": {
        "id": "qZiH_V2tZsbr",
        "colab_type": "text"
      },
      "cell_type": "markdown",
      "source": [
        "8. **[10 points]** Write a `__str__(self)` method that returns a human-readable string representing the polynomial. This method will be used by Python when the str function is called on a polynomial, or when a polynomial is printed.\n",
        "\n",
        "  In general, your function should render polynomials as a sequence of signs and terms each separated by a single space, i.e. `\"sign1 term1 sign2 term2 ... signN termN\"`, where signs can be `\"+\"` or `\"-\"`, and terms have the form `\"ax^b\"` for coefficient `a` and power `b`. However, in adherence with conventional mathematical notation, there are a few exceptional cases that require special treatment:\n",
        "\n",
        "  * The first sign should not be separated from the first term by a space, and should be left blank if the first term has a positive coefficient.\n",
        "  * The variable and power portions of a term should be omitted if the power is 0 , leaving only the coefficient.\n",
        "  * The power portion of a term should be omitted if the power is 1.\n",
        "  * Coefficients with magnitude 0 should always have a positive sign.\n",
        "  * Coefficients with magnitude 1 should be omitted, unless the power is 0.\n",
        "\n",
        "  You may assume that all polynomials have integer coefficients and non-negative integer powers.\n",
        "\n"
      ]
    },
    {
      "metadata": {
        "id": "ElDzmMxxaNqQ",
        "colab_type": "code",
        "colab": {}
      },
      "cell_type": "code",
      "source": [
        "# # Example:\n",
        "# p = Polynomial([(1, 1), (1, 0)])\n",
        "# qs = (p, p + p, -p, -p - p, p * p)\n",
        "# for q in qs:\n",
        "#     q.simplify()\n",
        "#     print(str(q))\n",
        "\n",
        "# # Expected output:\n",
        "# # x + 1\n",
        "# # 2x + 2\n",
        "# # -x - 1\n",
        "# # -2x - 2\n",
        "# # x^2 + 2x + 1"
      ],
      "execution_count": 0,
      "outputs": []
    },
    {
      "metadata": {
        "id": "f3-QXjUIaVYf",
        "colab_type": "code",
        "colab": {}
      },
      "cell_type": "code",
      "source": [
        "# # Example:\n",
        "# p = Polynomial([(0, 1), (2, 3)])\n",
        "# print(str(p))\n",
        "# print(str(p * p))\n",
        "# print(str(-p * p))\n",
        "\n",
        "# # Expected output:\n",
        "# # 0x + 2x^3\n",
        "# # 0x^2 + 0x^4 + 0x^4 + 4x^6\n",
        "# # 0x^2 + 0x^4 + 0x^4 - 4x^6"
      ],
      "execution_count": 0,
      "outputs": []
    },
    {
      "metadata": {
        "id": "JbhlvmSrac7h",
        "colab_type": "code",
        "colab": {}
      },
      "cell_type": "code",
      "source": [
        "# # Example:\n",
        "# q = Polynomial([(1, 1), (2, 3)])\n",
        "# print(str(q))\n",
        "# print(str(q * q))\n",
        "# print(str(-q * q))\n",
        "\n",
        "# # Expected output:\n",
        "# # x + 2x^3\n",
        "# # x^2 + 2x^4 + 2x^4 + 4x^6\n",
        "# # -x^2 - 2x^4 - 2x^4 - 4x^6"
      ],
      "execution_count": 0,
      "outputs": []
    }
  ]
}