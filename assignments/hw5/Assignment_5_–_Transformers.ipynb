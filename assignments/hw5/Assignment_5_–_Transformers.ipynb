{
  "nbformat": 4,
  "nbformat_minor": 0,
  "metadata": {
    "colab": {
      "name": "Assignment 5 – Transformers.ipynb",
      "provenance": [],
      "collapsed_sections": []
    },
    "kernelspec": {
      "name": "python3",
      "display_name": "Python 3"
    }
  },
  "cells": [
    {
      "cell_type": "markdown",
      "metadata": {
        "id": "8eXXcHxn1QsQ"
      },
      "source": [
        "# Transformers\n",
        "<figure align=\"center\">\n",
        "<img src=\"https://media.giphy.com/media/VeWllmR9zfaco/giphy.gif\" />\n",
        "<figcaption>(It's probably not this guy, right?)</figcaption>\n",
        "</figure>\n",
        "\n",
        "### The Transformer\n",
        "\n",
        "The Transformer is a novel architecture which solves sequence-to-sequence tasks while handling long-range dependencies with ease. It does so by using something called an \"attention module\". It was first proposed in the paper [Attention Is All You Need](https://arxiv.org/abs/1706.03762).\n",
        "\n",
        "You can read more about transformers in this [blog post](http://jalammar.github.io/illustrated-transformer/). The reading is recommended for anyone interested in NLP.\n",
        "\n",
        "### Let's get started!\n",
        "\n",
        "Run the following cells to download the dataset and preprocess it."
      ]
    },
    {
      "cell_type": "code",
      "metadata": {
        "id": "zL3aHx-Pp-NW",
        "colab": {
          "base_uri": "https://localhost:8080/",
          "height": 1000
        },
        "cellView": "form",
        "outputId": "1c6ae7f8-5cb4-40e6-9764-cc4a1937c41a"
      },
      "source": [
        "#@title Run me and restart runtime environment!\n",
        "###################### Restart Runtime after executing this cell ######################################################\n",
        "# !export CUDA_LAUNCH_BLOCKING=1\n",
        "!pip install simpletransformers"
      ],
      "execution_count": null,
      "outputs": [
        {
          "output_type": "stream",
          "text": [
            "Collecting simpletransformers\n",
            "\u001b[?25l  Downloading https://files.pythonhosted.org/packages/6d/ee/99e2809fb311841376fe01f3524a912b1907d7b45d445f16ad27b4422c9f/simpletransformers-0.60.9-py3-none-any.whl (206kB)\n",
            "\u001b[K     |████████████████████████████████| 215kB 11.9MB/s \n",
            "\u001b[?25hCollecting transformers>=4.2.0\n",
            "\u001b[?25l  Downloading https://files.pythonhosted.org/packages/f9/54/5ca07ec9569d2f232f3166de5457b63943882f7950ddfcc887732fc7fb23/transformers-4.3.3-py3-none-any.whl (1.9MB)\n",
            "\u001b[K     |████████████████████████████████| 1.9MB 17.8MB/s \n",
            "\u001b[?25hCollecting sentencepiece\n",
            "\u001b[?25l  Downloading https://files.pythonhosted.org/packages/f5/99/e0808cb947ba10f575839c43e8fafc9cc44e4a7a2c8f79c60db48220a577/sentencepiece-0.1.95-cp37-cp37m-manylinux2014_x86_64.whl (1.2MB)\n",
            "\u001b[K     |████████████████████████████████| 1.2MB 41.2MB/s \n",
            "\u001b[?25hCollecting tqdm>=4.47.0\n",
            "\u001b[?25l  Downloading https://files.pythonhosted.org/packages/4e/8c/f1035bd24b0e352ddba7be320abc1603fc4c9976fcda6971ed287be59164/tqdm-4.58.0-py2.py3-none-any.whl (73kB)\n",
            "\u001b[K     |████████████████████████████████| 81kB 6.1MB/s \n",
            "\u001b[?25hRequirement already satisfied: scipy in /usr/local/lib/python3.7/dist-packages (from simpletransformers) (1.4.1)\n",
            "Collecting seqeval\n",
            "\u001b[?25l  Downloading https://files.pythonhosted.org/packages/9d/2d/233c79d5b4e5ab1dbf111242299153f3caddddbb691219f363ad55ce783d/seqeval-1.2.2.tar.gz (43kB)\n",
            "\u001b[K     |████████████████████████████████| 51kB 4.1MB/s \n",
            "\u001b[?25hRequirement already satisfied: scikit-learn in /usr/local/lib/python3.7/dist-packages (from simpletransformers) (0.22.2.post1)\n",
            "Requirement already satisfied: pandas in /usr/local/lib/python3.7/dist-packages (from simpletransformers) (1.1.5)\n",
            "Requirement already satisfied: requests in /usr/local/lib/python3.7/dist-packages (from simpletransformers) (2.23.0)\n",
            "Collecting tensorboardx\n",
            "\u001b[?25l  Downloading https://files.pythonhosted.org/packages/af/0c/4f41bcd45db376e6fe5c619c01100e9b7531c55791b7244815bac6eac32c/tensorboardX-2.1-py2.py3-none-any.whl (308kB)\n",
            "\u001b[K     |████████████████████████████████| 317kB 52.9MB/s \n",
            "\u001b[?25hCollecting tokenizers\n",
            "\u001b[?25l  Downloading https://files.pythonhosted.org/packages/71/23/2ddc317b2121117bf34dd00f5b0de194158f2a44ee2bf5e47c7166878a97/tokenizers-0.10.1-cp37-cp37m-manylinux2010_x86_64.whl (3.2MB)\n",
            "\u001b[K     |████████████████████████████████| 3.2MB 34.1MB/s \n",
            "\u001b[?25hCollecting streamlit\n",
            "\u001b[?25l  Downloading https://files.pythonhosted.org/packages/a4/6c/c03f12bbbd8367152897c3b3269f87b717b3e7b834b44d15aae345727375/streamlit-0.77.0-py2.py3-none-any.whl (7.5MB)\n",
            "\u001b[K     |████████████████████████████████| 7.5MB 27.8MB/s \n",
            "\u001b[?25hCollecting wandb\n",
            "\u001b[?25l  Downloading https://files.pythonhosted.org/packages/00/17/b1e27f77c3d47f6915a774ecf632e3f5a7d49d9fa3991547729e7f19bedd/wandb-0.10.21-py2.py3-none-any.whl (2.0MB)\n",
            "\u001b[K     |████████████████████████████████| 2.0MB 52.5MB/s \n",
            "\u001b[?25hRequirement already satisfied: regex in /usr/local/lib/python3.7/dist-packages (from simpletransformers) (2019.12.20)\n",
            "Requirement already satisfied: numpy in /usr/local/lib/python3.7/dist-packages (from simpletransformers) (1.19.5)\n",
            "Requirement already satisfied: packaging in /usr/local/lib/python3.7/dist-packages (from transformers>=4.2.0->simpletransformers) (20.9)\n",
            "Requirement already satisfied: filelock in /usr/local/lib/python3.7/dist-packages (from transformers>=4.2.0->simpletransformers) (3.0.12)\n",
            "Requirement already satisfied: importlib-metadata; python_version < \"3.8\" in /usr/local/lib/python3.7/dist-packages (from transformers>=4.2.0->simpletransformers) (3.7.0)\n",
            "Collecting sacremoses\n",
            "\u001b[?25l  Downloading https://files.pythonhosted.org/packages/7d/34/09d19aff26edcc8eb2a01bed8e98f13a1537005d31e95233fd48216eed10/sacremoses-0.0.43.tar.gz (883kB)\n",
            "\u001b[K     |████████████████████████████████| 890kB 29.4MB/s \n",
            "\u001b[?25hRequirement already satisfied: joblib>=0.11 in /usr/local/lib/python3.7/dist-packages (from scikit-learn->simpletransformers) (1.0.1)\n",
            "Requirement already satisfied: pytz>=2017.2 in /usr/local/lib/python3.7/dist-packages (from pandas->simpletransformers) (2018.9)\n",
            "Requirement already satisfied: python-dateutil>=2.7.3 in /usr/local/lib/python3.7/dist-packages (from pandas->simpletransformers) (2.8.1)\n",
            "Requirement already satisfied: certifi>=2017.4.17 in /usr/local/lib/python3.7/dist-packages (from requests->simpletransformers) (2020.12.5)\n",
            "Requirement already satisfied: chardet<4,>=3.0.2 in /usr/local/lib/python3.7/dist-packages (from requests->simpletransformers) (3.0.4)\n",
            "Requirement already satisfied: idna<3,>=2.5 in /usr/local/lib/python3.7/dist-packages (from requests->simpletransformers) (2.10)\n",
            "Requirement already satisfied: urllib3!=1.25.0,!=1.25.1,<1.26,>=1.21.1 in /usr/local/lib/python3.7/dist-packages (from requests->simpletransformers) (1.24.3)\n",
            "Requirement already satisfied: protobuf>=3.8.0 in /usr/local/lib/python3.7/dist-packages (from tensorboardx->simpletransformers) (3.12.4)\n",
            "Requirement already satisfied: six in /usr/local/lib/python3.7/dist-packages (from tensorboardx->simpletransformers) (1.15.0)\n",
            "Collecting pydeck>=0.1.dev5\n",
            "\u001b[?25l  Downloading https://files.pythonhosted.org/packages/1c/3f/8f04ae0c22d82ec7bec7fcc03270a142f637e362bbd285f7daeeda24fbef/pydeck-0.6.1-py2.py3-none-any.whl (4.6MB)\n",
            "\u001b[K     |████████████████████████████████| 4.6MB 28.9MB/s \n",
            "\u001b[?25hCollecting watchdog; platform_system != \"Darwin\"\n",
            "\u001b[?25l  Downloading https://files.pythonhosted.org/packages/c6/ba/a36ca5b4e75649a002f06531862467b3eb5c768caa23d6d88b921fe238d8/watchdog-2.0.2-py3-none-manylinux2014_x86_64.whl (74kB)\n",
            "\u001b[K     |████████████████████████████████| 81kB 5.2MB/s \n",
            "\u001b[?25hCollecting blinker\n",
            "\u001b[?25l  Downloading https://files.pythonhosted.org/packages/1b/51/e2a9f3b757eb802f61dc1f2b09c8c99f6eb01cf06416c0671253536517b6/blinker-1.4.tar.gz (111kB)\n",
            "\u001b[K     |████████████████████████████████| 112kB 33.0MB/s \n",
            "\u001b[?25hRequirement already satisfied: tzlocal in /usr/local/lib/python3.7/dist-packages (from streamlit->simpletransformers) (1.5.1)\n",
            "Requirement already satisfied: cachetools>=4.0 in /usr/local/lib/python3.7/dist-packages (from streamlit->simpletransformers) (4.2.1)\n",
            "Requirement already satisfied: pillow>=6.2.0 in /usr/local/lib/python3.7/dist-packages (from streamlit->simpletransformers) (7.0.0)\n",
            "Requirement already satisfied: pyarrow; python_version < \"3.9\" in /usr/local/lib/python3.7/dist-packages (from streamlit->simpletransformers) (3.0.0)\n",
            "Collecting gitpython\n",
            "\u001b[?25l  Downloading https://files.pythonhosted.org/packages/a6/99/98019716955ba243657daedd1de8f3a88ca1f5b75057c38e959db22fb87b/GitPython-3.1.14-py3-none-any.whl (159kB)\n",
            "\u001b[K     |████████████████████████████████| 163kB 43.3MB/s \n",
            "\u001b[?25hRequirement already satisfied: click>=7.0 in /usr/local/lib/python3.7/dist-packages (from streamlit->simpletransformers) (7.1.2)\n",
            "Requirement already satisfied: toml in /usr/local/lib/python3.7/dist-packages (from streamlit->simpletransformers) (0.10.2)\n",
            "Requirement already satisfied: tornado>=5.0 in /usr/local/lib/python3.7/dist-packages (from streamlit->simpletransformers) (5.1.1)\n",
            "Collecting validators\n",
            "  Downloading https://files.pythonhosted.org/packages/db/2f/7fed3ee94ad665ad2c1de87f858f10a7785251ff75b4fd47987888d07ef1/validators-0.18.2-py3-none-any.whl\n",
            "Collecting base58\n",
            "  Downloading https://files.pythonhosted.org/packages/b8/a1/d9f565e9910c09fd325dc638765e8843a19fa696275c16cc08cf3b0a3c25/base58-2.1.0-py3-none-any.whl\n",
            "Requirement already satisfied: astor in /usr/local/lib/python3.7/dist-packages (from streamlit->simpletransformers) (0.8.1)\n",
            "Requirement already satisfied: altair>=3.2.0 in /usr/local/lib/python3.7/dist-packages (from streamlit->simpletransformers) (4.1.0)\n",
            "Requirement already satisfied: PyYAML in /usr/local/lib/python3.7/dist-packages (from wandb->simpletransformers) (3.13)\n",
            "Requirement already satisfied: psutil>=5.0.0 in /usr/local/lib/python3.7/dist-packages (from wandb->simpletransformers) (5.4.8)\n",
            "Collecting pathtools\n",
            "  Downloading https://files.pythonhosted.org/packages/e7/7f/470d6fcdf23f9f3518f6b0b76be9df16dcc8630ad409947f8be2eb0ed13a/pathtools-0.1.2.tar.gz\n",
            "Requirement already satisfied: promise<3,>=2.0 in /usr/local/lib/python3.7/dist-packages (from wandb->simpletransformers) (2.3)\n",
            "Collecting configparser>=3.8.1\n",
            "  Downloading https://files.pythonhosted.org/packages/fd/01/ff260a18caaf4457eb028c96eeb405c4a230ca06c8ec9c1379f813caa52e/configparser-5.0.2-py3-none-any.whl\n",
            "Collecting sentry-sdk>=0.4.0\n",
            "\u001b[?25l  Downloading https://files.pythonhosted.org/packages/f3/92/5a33be64990ba815364a8f2dd9e6f51de60d23dfddafb4f1fc5577d4dc64/sentry_sdk-1.0.0-py2.py3-none-any.whl (131kB)\n",
            "\u001b[K     |████████████████████████████████| 133kB 51.0MB/s \n",
            "\u001b[?25hCollecting docker-pycreds>=0.4.0\n",
            "  Downloading https://files.pythonhosted.org/packages/f5/e8/f6bd1eee09314e7e6dee49cbe2c5e22314ccdb38db16c9fc72d2fa80d054/docker_pycreds-0.4.0-py2.py3-none-any.whl\n",
            "Collecting subprocess32>=3.5.3\n",
            "\u001b[?25l  Downloading https://files.pythonhosted.org/packages/32/c8/564be4d12629b912ea431f1a50eb8b3b9d00f1a0b1ceff17f266be190007/subprocess32-3.5.4.tar.gz (97kB)\n",
            "\u001b[K     |████████████████████████████████| 102kB 6.3MB/s \n",
            "\u001b[?25hCollecting shortuuid>=0.5.0\n",
            "  Downloading https://files.pythonhosted.org/packages/25/a6/2ecc1daa6a304e7f1b216f0896b26156b78e7c38e1211e9b798b4716c53d/shortuuid-1.0.1-py3-none-any.whl\n",
            "Requirement already satisfied: pyparsing>=2.0.2 in /usr/local/lib/python3.7/dist-packages (from packaging->transformers>=4.2.0->simpletransformers) (2.4.7)\n",
            "Requirement already satisfied: zipp>=0.5 in /usr/local/lib/python3.7/dist-packages (from importlib-metadata; python_version < \"3.8\"->transformers>=4.2.0->simpletransformers) (3.4.0)\n",
            "Requirement already satisfied: typing-extensions>=3.6.4; python_version < \"3.8\" in /usr/local/lib/python3.7/dist-packages (from importlib-metadata; python_version < \"3.8\"->transformers>=4.2.0->simpletransformers) (3.7.4.3)\n",
            "Requirement already satisfied: setuptools in /usr/local/lib/python3.7/dist-packages (from protobuf>=3.8.0->tensorboardx->simpletransformers) (54.0.0)\n",
            "Collecting ipykernel>=5.1.2; python_version >= \"3.4\"\n",
            "\u001b[?25l  Downloading https://files.pythonhosted.org/packages/56/95/3a670c8b2c2370bd8631c313f42e60983b3113ffec4035940592252bd6d5/ipykernel-5.5.0-py3-none-any.whl (120kB)\n",
            "\u001b[K     |████████████████████████████████| 122kB 48.1MB/s \n",
            "\u001b[?25hRequirement already satisfied: ipywidgets>=7.0.0 in /usr/local/lib/python3.7/dist-packages (from pydeck>=0.1.dev5->streamlit->simpletransformers) (7.6.3)\n",
            "Requirement already satisfied: jinja2>=2.10.1 in /usr/local/lib/python3.7/dist-packages (from pydeck>=0.1.dev5->streamlit->simpletransformers) (2.11.3)\n",
            "Requirement already satisfied: traitlets>=4.3.2 in /usr/local/lib/python3.7/dist-packages (from pydeck>=0.1.dev5->streamlit->simpletransformers) (5.0.5)\n",
            "Collecting gitdb<5,>=4.0.1\n",
            "\u001b[?25l  Downloading https://files.pythonhosted.org/packages/48/11/d1800bca0a3bae820b84b7d813ad1eff15a48a64caea9c823fc8c1b119e8/gitdb-4.0.5-py3-none-any.whl (63kB)\n",
            "\u001b[K     |████████████████████████████████| 71kB 5.7MB/s \n",
            "\u001b[?25hRequirement already satisfied: decorator>=3.4.0 in /usr/local/lib/python3.7/dist-packages (from validators->streamlit->simpletransformers) (4.4.2)\n",
            "Requirement already satisfied: jsonschema in /usr/local/lib/python3.7/dist-packages (from altair>=3.2.0->streamlit->simpletransformers) (2.6.0)\n",
            "Requirement already satisfied: toolz in /usr/local/lib/python3.7/dist-packages (from altair>=3.2.0->streamlit->simpletransformers) (0.11.1)\n",
            "Requirement already satisfied: entrypoints in /usr/local/lib/python3.7/dist-packages (from altair>=3.2.0->streamlit->simpletransformers) (0.3)\n",
            "Requirement already satisfied: jupyter-client in /usr/local/lib/python3.7/dist-packages (from ipykernel>=5.1.2; python_version >= \"3.4\"->pydeck>=0.1.dev5->streamlit->simpletransformers) (5.3.5)\n",
            "Requirement already satisfied: ipython>=5.0.0 in /usr/local/lib/python3.7/dist-packages (from ipykernel>=5.1.2; python_version >= \"3.4\"->pydeck>=0.1.dev5->streamlit->simpletransformers) (5.5.0)\n",
            "Requirement already satisfied: nbformat>=4.2.0 in /usr/local/lib/python3.7/dist-packages (from ipywidgets>=7.0.0->pydeck>=0.1.dev5->streamlit->simpletransformers) (5.1.2)\n",
            "Requirement already satisfied: widgetsnbextension~=3.5.0 in /usr/local/lib/python3.7/dist-packages (from ipywidgets>=7.0.0->pydeck>=0.1.dev5->streamlit->simpletransformers) (3.5.1)\n",
            "Requirement already satisfied: jupyterlab-widgets>=1.0.0; python_version >= \"3.6\" in /usr/local/lib/python3.7/dist-packages (from ipywidgets>=7.0.0->pydeck>=0.1.dev5->streamlit->simpletransformers) (1.0.0)\n",
            "Requirement already satisfied: MarkupSafe>=0.23 in /usr/local/lib/python3.7/dist-packages (from jinja2>=2.10.1->pydeck>=0.1.dev5->streamlit->simpletransformers) (1.1.1)\n",
            "Requirement already satisfied: ipython-genutils in /usr/local/lib/python3.7/dist-packages (from traitlets>=4.3.2->pydeck>=0.1.dev5->streamlit->simpletransformers) (0.2.0)\n",
            "Collecting smmap<4,>=3.0.1\n",
            "  Downloading https://files.pythonhosted.org/packages/d5/1e/6130925131f639b2acde0f7f18b73e33ce082ff2d90783c436b52040af5a/smmap-3.0.5-py2.py3-none-any.whl\n",
            "Requirement already satisfied: jupyter-core>=4.6.0 in /usr/local/lib/python3.7/dist-packages (from jupyter-client->ipykernel>=5.1.2; python_version >= \"3.4\"->pydeck>=0.1.dev5->streamlit->simpletransformers) (4.7.1)\n",
            "Requirement already satisfied: pyzmq>=13 in /usr/local/lib/python3.7/dist-packages (from jupyter-client->ipykernel>=5.1.2; python_version >= \"3.4\"->pydeck>=0.1.dev5->streamlit->simpletransformers) (22.0.3)\n",
            "Requirement already satisfied: pygments in /usr/local/lib/python3.7/dist-packages (from ipython>=5.0.0->ipykernel>=5.1.2; python_version >= \"3.4\"->pydeck>=0.1.dev5->streamlit->simpletransformers) (2.6.1)\n",
            "Requirement already satisfied: simplegeneric>0.8 in /usr/local/lib/python3.7/dist-packages (from ipython>=5.0.0->ipykernel>=5.1.2; python_version >= \"3.4\"->pydeck>=0.1.dev5->streamlit->simpletransformers) (0.8.1)\n",
            "Requirement already satisfied: pexpect; sys_platform != \"win32\" in /usr/local/lib/python3.7/dist-packages (from ipython>=5.0.0->ipykernel>=5.1.2; python_version >= \"3.4\"->pydeck>=0.1.dev5->streamlit->simpletransformers) (4.8.0)\n",
            "Requirement already satisfied: prompt-toolkit<2.0.0,>=1.0.4 in /usr/local/lib/python3.7/dist-packages (from ipython>=5.0.0->ipykernel>=5.1.2; python_version >= \"3.4\"->pydeck>=0.1.dev5->streamlit->simpletransformers) (1.0.18)\n",
            "Requirement already satisfied: pickleshare in /usr/local/lib/python3.7/dist-packages (from ipython>=5.0.0->ipykernel>=5.1.2; python_version >= \"3.4\"->pydeck>=0.1.dev5->streamlit->simpletransformers) (0.7.5)\n",
            "Requirement already satisfied: notebook>=4.4.1 in /usr/local/lib/python3.7/dist-packages (from widgetsnbextension~=3.5.0->ipywidgets>=7.0.0->pydeck>=0.1.dev5->streamlit->simpletransformers) (5.3.1)\n",
            "Requirement already satisfied: ptyprocess>=0.5 in /usr/local/lib/python3.7/dist-packages (from pexpect; sys_platform != \"win32\"->ipython>=5.0.0->ipykernel>=5.1.2; python_version >= \"3.4\"->pydeck>=0.1.dev5->streamlit->simpletransformers) (0.7.0)\n",
            "Requirement already satisfied: wcwidth in /usr/local/lib/python3.7/dist-packages (from prompt-toolkit<2.0.0,>=1.0.4->ipython>=5.0.0->ipykernel>=5.1.2; python_version >= \"3.4\"->pydeck>=0.1.dev5->streamlit->simpletransformers) (0.2.5)\n",
            "Requirement already satisfied: terminado>=0.8.1 in /usr/local/lib/python3.7/dist-packages (from notebook>=4.4.1->widgetsnbextension~=3.5.0->ipywidgets>=7.0.0->pydeck>=0.1.dev5->streamlit->simpletransformers) (0.9.2)\n",
            "Requirement already satisfied: nbconvert in /usr/local/lib/python3.7/dist-packages (from notebook>=4.4.1->widgetsnbextension~=3.5.0->ipywidgets>=7.0.0->pydeck>=0.1.dev5->streamlit->simpletransformers) (5.6.1)\n",
            "Requirement already satisfied: Send2Trash in /usr/local/lib/python3.7/dist-packages (from notebook>=4.4.1->widgetsnbextension~=3.5.0->ipywidgets>=7.0.0->pydeck>=0.1.dev5->streamlit->simpletransformers) (1.5.0)\n",
            "Requirement already satisfied: mistune<2,>=0.8.1 in /usr/local/lib/python3.7/dist-packages (from nbconvert->notebook>=4.4.1->widgetsnbextension~=3.5.0->ipywidgets>=7.0.0->pydeck>=0.1.dev5->streamlit->simpletransformers) (0.8.4)\n",
            "Requirement already satisfied: bleach in /usr/local/lib/python3.7/dist-packages (from nbconvert->notebook>=4.4.1->widgetsnbextension~=3.5.0->ipywidgets>=7.0.0->pydeck>=0.1.dev5->streamlit->simpletransformers) (3.3.0)\n",
            "Requirement already satisfied: testpath in /usr/local/lib/python3.7/dist-packages (from nbconvert->notebook>=4.4.1->widgetsnbextension~=3.5.0->ipywidgets>=7.0.0->pydeck>=0.1.dev5->streamlit->simpletransformers) (0.4.4)\n",
            "Requirement already satisfied: defusedxml in /usr/local/lib/python3.7/dist-packages (from nbconvert->notebook>=4.4.1->widgetsnbextension~=3.5.0->ipywidgets>=7.0.0->pydeck>=0.1.dev5->streamlit->simpletransformers) (0.6.0)\n",
            "Requirement already satisfied: pandocfilters>=1.4.1 in /usr/local/lib/python3.7/dist-packages (from nbconvert->notebook>=4.4.1->widgetsnbextension~=3.5.0->ipywidgets>=7.0.0->pydeck>=0.1.dev5->streamlit->simpletransformers) (1.4.3)\n",
            "Requirement already satisfied: webencodings in /usr/local/lib/python3.7/dist-packages (from bleach->nbconvert->notebook>=4.4.1->widgetsnbextension~=3.5.0->ipywidgets>=7.0.0->pydeck>=0.1.dev5->streamlit->simpletransformers) (0.5.1)\n",
            "Building wheels for collected packages: seqeval, sacremoses, blinker, pathtools, subprocess32\n",
            "  Building wheel for seqeval (setup.py) ... \u001b[?25l\u001b[?25hdone\n",
            "  Created wheel for seqeval: filename=seqeval-1.2.2-cp37-none-any.whl size=16172 sha256=783fa3c7af21504469623cb3118b1d6571c2bd8f7a3a33b4fa16bba3e4aef3fc\n",
            "  Stored in directory: /root/.cache/pip/wheels/52/df/1b/45d75646c37428f7e626214704a0e35bd3cfc32eda37e59e5f\n",
            "  Building wheel for sacremoses (setup.py) ... \u001b[?25l\u001b[?25hdone\n",
            "  Created wheel for sacremoses: filename=sacremoses-0.0.43-cp37-none-any.whl size=893262 sha256=c2b1e45a72e584eb797d50eeb9865a7a1a9a9e46de312836deaf9a74e8eb757c\n",
            "  Stored in directory: /root/.cache/pip/wheels/29/3c/fd/7ce5c3f0666dab31a50123635e6fb5e19ceb42ce38d4e58f45\n",
            "  Building wheel for blinker (setup.py) ... \u001b[?25l\u001b[?25hdone\n",
            "  Created wheel for blinker: filename=blinker-1.4-cp37-none-any.whl size=13448 sha256=e7bf38440de76bd2a589fc81f7f20fe69270c2e6cd8bef794fa544ada7c93299\n",
            "  Stored in directory: /root/.cache/pip/wheels/92/a0/00/8690a57883956a301d91cf4ec999cc0b258b01e3f548f86e89\n",
            "  Building wheel for pathtools (setup.py) ... \u001b[?25l\u001b[?25hdone\n",
            "  Created wheel for pathtools: filename=pathtools-0.1.2-cp37-none-any.whl size=8786 sha256=62480f324b90846faac2c0815cc81448ca506f52405250094ad6e58a15e877ab\n",
            "  Stored in directory: /root/.cache/pip/wheels/0b/04/79/c3b0c3a0266a3cb4376da31e5bfe8bba0c489246968a68e843\n",
            "  Building wheel for subprocess32 (setup.py) ... \u001b[?25l\u001b[?25hdone\n",
            "  Created wheel for subprocess32: filename=subprocess32-3.5.4-cp37-none-any.whl size=6489 sha256=96417e91d469d351061885fdb3d6e6e3b37beece4149a7f6b2e72c2d0623dabc\n",
            "  Stored in directory: /root/.cache/pip/wheels/68/39/1a/5e402bdfdf004af1786c8b853fd92f8c4a04f22aad179654d1\n",
            "Successfully built seqeval sacremoses blinker pathtools subprocess32\n",
            "\u001b[31mERROR: google-colab 1.0.0 has requirement ipykernel~=4.10, but you'll have ipykernel 5.5.0 which is incompatible.\u001b[0m\n",
            "Installing collected packages: tokenizers, tqdm, sacremoses, transformers, sentencepiece, seqeval, tensorboardx, ipykernel, pydeck, watchdog, blinker, smmap, gitdb, gitpython, validators, base58, streamlit, pathtools, configparser, sentry-sdk, docker-pycreds, subprocess32, shortuuid, wandb, simpletransformers\n",
            "  Found existing installation: tqdm 4.41.1\n",
            "    Uninstalling tqdm-4.41.1:\n",
            "      Successfully uninstalled tqdm-4.41.1\n",
            "  Found existing installation: ipykernel 4.10.1\n",
            "    Uninstalling ipykernel-4.10.1:\n",
            "      Successfully uninstalled ipykernel-4.10.1\n",
            "Successfully installed base58-2.1.0 blinker-1.4 configparser-5.0.2 docker-pycreds-0.4.0 gitdb-4.0.5 gitpython-3.1.14 ipykernel-5.5.0 pathtools-0.1.2 pydeck-0.6.1 sacremoses-0.0.43 sentencepiece-0.1.95 sentry-sdk-1.0.0 seqeval-1.2.2 shortuuid-1.0.1 simpletransformers-0.60.9 smmap-3.0.5 streamlit-0.77.0 subprocess32-3.5.4 tensorboardx-2.1 tokenizers-0.10.1 tqdm-4.58.0 transformers-4.3.3 validators-0.18.2 wandb-0.10.21 watchdog-2.0.2\n"
          ],
          "name": "stdout"
        },
        {
          "output_type": "display_data",
          "data": {
            "application/vnd.colab-display-data+json": {
              "pip_warning": {
                "packages": [
                  "ipykernel"
                ]
              }
            }
          },
          "metadata": {
            "tags": []
          }
        }
      ]
    },
    {
      "cell_type": "code",
      "metadata": {
        "id": "c0pqZc3Gs5xP",
        "cellView": "form"
      },
      "source": [
        "#@title Run me! – Data Preprocessing 1 \n",
        "###**Do not modify the code in the cells below (I am planning to remove some of the below cells used for preperocessing and subsettng the data and provide the final csv to the students instead)**\n",
        "### gathering the dataset\n",
        "from urllib.request import urlretrieve\n",
        "from pathlib import Path\n",
        "import pandas as pd\n",
        "\n",
        "SNIPS_DATA_BASE_URL = (\n",
        "    \"https://github.com/ogrisel/slot_filling_and_intent_detection_of_SLU/blob/\"\n",
        "    \"master/data/snips/\"\n",
        ")\n",
        "for filename in [\"train\", \"valid\", \"vocab.intent\"]:\n",
        "    path = Path(filename)\n",
        "    if not path.exists():\n",
        "        print(f\"Downloading {filename}...\")\n",
        "        urlretrieve(SNIPS_DATA_BASE_URL + filename + \"?raw=true\", path)"
      ],
      "execution_count": null,
      "outputs": []
    },
    {
      "cell_type": "code",
      "metadata": {
        "id": "7UFdRUzGs8Qa"
      },
      "source": [
        "#@title Run me! – Data Preprocessing 2\r\n",
        "### gathering the dataset\r\n",
        "def parse_line(line):\r\n",
        "    utterance_data, intent_label = line.split(\" <=> \")\r\n",
        "    items = utterance_data.split()\r\n",
        "    words = [item.rsplit(\":\", 1)[0]for item in items]\r\n",
        "    word_labels = [item.rsplit(\":\", 1)[1]for item in items]\r\n",
        "    return {\r\n",
        "        \"intent_label\": intent_label,\r\n",
        "        \"words\": \" \".join(words),\r\n",
        "        \"word_labels\": \" \".join(word_labels),\r\n",
        "        \"length\": len(words),\r\n",
        "    }"
      ],
      "execution_count": null,
      "outputs": []
    },
    {
      "cell_type": "markdown",
      "metadata": {
        "id": "3e6TXM3M-D0q"
      },
      "source": [
        "## Dataset used\n",
        "\n",
        "In this part of the assignment, we will be using a subset of [intent classifcation dataset \n",
        "](https://github.com/ogrisel/slot_filling_and_intent_detection_of_SLU/tree/master/data/snips). We will be classifying a given sentence into one of the five categories:\n",
        "AddToPlaylist,\n",
        "BookRestaurant,\n",
        "GetWeather,\n",
        "PlayMusic and \n",
        "RateBook.\n",
        "\n",
        "We will also provided a separate validation set to test the performance of the model. In the next cells, the data will be cleaned for you to use.\n"
      ]
    },
    {
      "cell_type": "code",
      "metadata": {
        "colab": {
          "base_uri": "https://localhost:8080/",
          "height": 206
        },
        "id": "T0AHZcHytAYG",
        "outputId": "36c10d49-7d4a-4404-82c4-6877b6a2e92a"
      },
      "source": [
        "#@title Run me! – Data Cleaning & First 5 Rows of Dataset\n",
        "################ data cleaning #############\n",
        "intent_names = Path(\"vocab.intent\").read_text().split()\n",
        "intent_names=intent_names[0:1]+intent_names[3:4]\n",
        "intent_map = dict((label, idx) for idx, label in enumerate(intent_names))\n",
        "\n",
        "lines_train = Path(\"train\").read_text().strip().splitlines()\n",
        "\n",
        "parsed = [parse_line(line) for line in lines_train]\n",
        "\n",
        "df_train = pd.DataFrame([p for p in parsed if p is not None])\n",
        "\n",
        "## getting a subset of data\n",
        "count=500 \n",
        "#df_train_small= pd.concat([df_train[0:0+count],df_train[1842:1842+count],df_train[3715:3715+count],df_train[5615:5615+count],df_train[7515:7515+count],df_train[9371:9371+count],df_train[11225:11225+count]]) \n",
        "\n",
        "df_train_= pd.concat([df_train[0:0+count],df_train[5615:5615+count]]) \n",
        "\n",
        "df_train_=df_train_[['words','intent_label']]\n",
        "\n",
        "df_train_.replace({\"intent_label\":intent_map },inplace=True)\n",
        "\n",
        "df_train_=df_train_.sample(frac=1,random_state=56132).reset_index(drop=True)\n",
        "\n",
        "df_train_.head()\n",
        "\n",
        "\n",
        "## introducing noise\n",
        "df_1=df_train_.sample(frac=0.3,random_state=111)\n",
        "\n",
        "df_0=df_train_.sample(frac=0.3,random_state=80)\n",
        "\n",
        "df_train_.loc[df_0.index ,'intent_label'] = 0\n",
        "df_train_.loc[df_1.index ,'intent_label'] = 1\n",
        "\n",
        "\n",
        "df_train_['intent_label'].value_counts()\n",
        "\n",
        "\n"
      ],
      "execution_count": null,
      "outputs": [
        {
          "output_type": "execute_result",
          "data": {
            "text/html": [
              "<div>\n",
              "<style scoped>\n",
              "    .dataframe tbody tr th:only-of-type {\n",
              "        vertical-align: middle;\n",
              "    }\n",
              "\n",
              "    .dataframe tbody tr th {\n",
              "        vertical-align: top;\n",
              "    }\n",
              "\n",
              "    .dataframe thead th {\n",
              "        text-align: right;\n",
              "    }\n",
              "</style>\n",
              "<table border=\"1\" class=\"dataframe\">\n",
              "  <thead>\n",
              "    <tr style=\"text-align: right;\">\n",
              "      <th></th>\n",
              "      <th>words</th>\n",
              "      <th>intent_label</th>\n",
              "    </tr>\n",
              "  </thead>\n",
              "  <tbody>\n",
              "    <tr>\n",
              "      <th>0</th>\n",
              "      <td>Play a song off Ian Stuart Donaldson 's Nature...</td>\n",
              "      <td>1</td>\n",
              "    </tr>\n",
              "    <tr>\n",
              "      <th>1</th>\n",
              "      <td>add an album to playlist Emily Dickinson</td>\n",
              "      <td>0</td>\n",
              "    </tr>\n",
              "    <tr>\n",
              "      <th>2</th>\n",
              "      <td>A Shawnna to the Warm Hearts Feel Good playlist.</td>\n",
              "      <td>0</td>\n",
              "    </tr>\n",
              "    <tr>\n",
              "      <th>3</th>\n",
              "      <td>Play some music using slacker</td>\n",
              "      <td>1</td>\n",
              "    </tr>\n",
              "    <tr>\n",
              "      <th>4</th>\n",
              "      <td>Can you play Maggie Mae on Netflix</td>\n",
              "      <td>1</td>\n",
              "    </tr>\n",
              "  </tbody>\n",
              "</table>\n",
              "</div>"
            ],
            "text/plain": [
              "                                               words  intent_label\n",
              "0  Play a song off Ian Stuart Donaldson 's Nature...             1\n",
              "1           add an album to playlist Emily Dickinson             0\n",
              "2   A Shawnna to the Warm Hearts Feel Good playlist.             0\n",
              "3                      Play some music using slacker             1\n",
              "4                 Can you play Maggie Mae on Netflix             1"
            ]
          },
          "metadata": {
            "tags": []
          },
          "execution_count": 65
        }
      ]
    },
    {
      "cell_type": "markdown",
      "metadata": {
        "id": "hdqBXyvao5Oo"
      },
      "source": [
        "Awesome, we're all set to get started with the actual analysis! In the next step, we will split the training and test data using the sklearn train_test_split function (see how it works [here](https://scikit-learn.org/stable/modules/generated/sklearn.model_selection.train_test_split.html). To decrease the training time (our current dataset has 9000 rows!), we will create a smaller subset of the training data called df_train_small. Note here that the parameter 'train_size' and 'test_size' indicate the proportion of data that is used for the training/testing dataset respectively. More information can be found [here](https://scikit-learn.org/stable/modules/generated/sklearn.model_selection.train_test_split.html).\n"
      ]
    },
    {
      "cell_type": "code",
      "metadata": {
        "id": "e-psMCyhGgfT"
      },
      "source": [
        " from sklearn.model_selection import train_test_split  \n",
        "\n",
        "def subset_datafarme(train_size):       \n",
        "        X=df_train_['words']\n",
        "        y=df_train_['intent_label']\n",
        "        X_train, X_test, y_train, y_test = train_test_split( X, y, train_size=train_size, stratify=y,random_state=444)\n",
        "        df_train_small=pd.DataFrame({'words':X_train,'intent_label':y_train})\n",
        "\n",
        "        return df_train_small"
      ],
      "execution_count": null,
      "outputs": []
    },
    {
      "cell_type": "markdown",
      "metadata": {
        "id": "tsx3nJm1rAni"
      },
      "source": [
        "By running the following cell, you can see the intent map, i.e. which intent is mapped to which label:"
      ]
    },
    {
      "cell_type": "code",
      "metadata": {
        "colab": {
          "base_uri": "https://localhost:8080/"
        },
        "id": "QUr-EJJSCCfP",
        "outputId": "02ccaaef-1510-4480-b15e-9a5ecd08bff2"
      },
      "source": [
        "intent_map"
      ],
      "execution_count": null,
      "outputs": [
        {
          "output_type": "execute_result",
          "data": {
            "text/plain": [
              "{'AddToPlaylist': 0, 'PlayMusic': 1}"
            ]
          },
          "metadata": {
            "tags": []
          },
          "execution_count": 69
        }
      ]
    },
    {
      "cell_type": "code",
      "metadata": {
        "id": "zAmErXHyuc8w",
        "colab": {
          "base_uri": "https://localhost:8080/",
          "height": 206
        },
        "cellView": "form",
        "outputId": "d32aa179-8e35-44ef-f9a3-58a6e8a14aa3"
      },
      "source": [
        "#@title Run me! – Validation Set Cleaning & First 5 Rows of Dataset\n",
        "\n",
        "### cleaning validation set.\n",
        "lines_valid = Path(\"valid\").read_text().strip().splitlines()\n",
        "df_valid = pd.DataFrame([parse_line(line) for line in lines_valid])\n",
        "count=50\n",
        "df_valid= pd.concat([df_valid[0:0+count],df_valid[300:300+count]]) \n",
        "df_valid=df_valid.sample(frac=1,random_state=1234).reset_index(drop=True)\n",
        "df_valid=df_valid[['words','intent_label']]\n",
        "df_valid.replace({\"intent_label\":intent_map },inplace=True)\n",
        "df_valid.head()\n"
      ],
      "execution_count": null,
      "outputs": [
        {
          "output_type": "execute_result",
          "data": {
            "text/html": [
              "<div>\n",
              "<style scoped>\n",
              "    .dataframe tbody tr th:only-of-type {\n",
              "        vertical-align: middle;\n",
              "    }\n",
              "\n",
              "    .dataframe tbody tr th {\n",
              "        vertical-align: top;\n",
              "    }\n",
              "\n",
              "    .dataframe thead th {\n",
              "        text-align: right;\n",
              "    }\n",
              "</style>\n",
              "<table border=\"1\" class=\"dataframe\">\n",
              "  <thead>\n",
              "    <tr style=\"text-align: right;\">\n",
              "      <th></th>\n",
              "      <th>words</th>\n",
              "      <th>intent_label</th>\n",
              "    </tr>\n",
              "  </thead>\n",
              "  <tbody>\n",
              "    <tr>\n",
              "      <th>0</th>\n",
              "      <td>add Jacob Hoggard to my get going playlist</td>\n",
              "      <td>0</td>\n",
              "    </tr>\n",
              "    <tr>\n",
              "      <th>1</th>\n",
              "      <td>Add the 3rd world to my focus now</td>\n",
              "      <td>0</td>\n",
              "    </tr>\n",
              "    <tr>\n",
              "      <th>2</th>\n",
              "      <td>Can I hear a Da Brat ep ?</td>\n",
              "      <td>1</td>\n",
              "    </tr>\n",
              "    <tr>\n",
              "      <th>3</th>\n",
              "      <td>play me a Mel Draisey tune from the fourties w...</td>\n",
              "      <td>1</td>\n",
              "    </tr>\n",
              "    <tr>\n",
              "      <th>4</th>\n",
              "      <td>Play the song domino by Luca Turilli</td>\n",
              "      <td>1</td>\n",
              "    </tr>\n",
              "  </tbody>\n",
              "</table>\n",
              "</div>"
            ],
            "text/plain": [
              "                                               words  intent_label\n",
              "0         add Jacob Hoggard to my get going playlist             0\n",
              "1                  Add the 3rd world to my focus now             0\n",
              "2                          Can I hear a Da Brat ep ?             1\n",
              "3  play me a Mel Draisey tune from the fourties w...             1\n",
              "4               Play the song domino by Luca Turilli             1"
            ]
          },
          "metadata": {
            "tags": []
          },
          "execution_count": 70
        }
      ]
    },
    {
      "cell_type": "markdown",
      "metadata": {
        "id": "f_BiAez58BqF"
      },
      "source": [
        "## Defining the transformer model \n",
        "We will be using [Simple Transformers](https://github.com/ThilinaRajapakse/simpletransformers) to train our model. They are a wrapper library based on the [Transformer](https://github.com/huggingface/transformers) library of Hugging face. It let's you solve many interesting NLP problems with a few lines of code. Initially, we define the model. Here we've used the 'Bert Model' for training our classifier, but you can also try it with other [pre-trained models](https://huggingface.co/transformers/pretrained_models.html)."
      ]
    },
    {
      "cell_type": "code",
      "metadata": {
        "id": "m9vEyLgAqCio",
        "colab": {
          "base_uri": "https://localhost:8080/"
        },
        "outputId": "0b7331af-e488-4c9e-8124-f0635f9bfce1"
      },
      "source": [
        "from simpletransformers.classification import ClassificationModel, ClassificationArgs\r\n",
        "import logging\r\n",
        "\r\n",
        "logging.basicConfig(level=logging.INFO)\r\n",
        "transformers_logger = logging.getLogger(\"transformers\")\r\n",
        "transformers_logger.setLevel(logging.WARNING)\r\n",
        "\r\n",
        "model_args = ClassificationArgs(num_train_epochs=1, overwrite_output_dir=True, manual_seed=42)\r\n",
        "model = ClassificationModel(model_type='bert', model_name='bert-base-uncased', use_cuda=False, num_labels=2, args=model_args)\r\n"
      ],
      "execution_count": null,
      "outputs": [
        {
          "output_type": "stream",
          "text": [
            "Some weights of the model checkpoint at bert-base-uncased were not used when initializing BertForSequenceClassification: ['cls.predictions.bias', 'cls.predictions.transform.dense.weight', 'cls.predictions.transform.dense.bias', 'cls.predictions.decoder.weight', 'cls.seq_relationship.weight', 'cls.seq_relationship.bias', 'cls.predictions.transform.LayerNorm.weight', 'cls.predictions.transform.LayerNorm.bias']\n",
            "- This IS expected if you are initializing BertForSequenceClassification from the checkpoint of a model trained on another task or with another architecture (e.g. initializing a BertForSequenceClassification model from a BertForPreTraining model).\n",
            "- This IS NOT expected if you are initializing BertForSequenceClassification from the checkpoint of a model that you expect to be exactly identical (initializing a BertForSequenceClassification model from a BertForSequenceClassification model).\n",
            "Some weights of BertForSequenceClassification were not initialized from the model checkpoint at bert-base-uncased and are newly initialized: ['classifier.weight', 'classifier.bias']\n",
            "You should probably TRAIN this model on a down-stream task to be able to use it for predictions and inference.\n"
          ],
          "name": "stderr"
        }
      ]
    },
    {
      "cell_type": "markdown",
      "metadata": {
        "id": "dZG5kX9yrdoC"
      },
      "source": [
        "After it has been us talking for some time, it's your turn! Write a function \"get_labels\" that takes as input a prediction and returns the corresponding intent from the intent map that you saw above. This essentially means that if the input to the get_labels function is 0, it should return \"AddToPlaylist\" and if it is 1, it should return \"PlayMusic\""
      ]
    },
    {
      "cell_type": "code",
      "metadata": {
        "id": "S87vregbgl5X"
      },
      "source": [
        "## TO DO: Write the get_labels function that converts the numerical predictions (0 or 1) to the actual labels (AddToPlaylist or PlayMusic)\n",
        "## You can either hard code the solution or – for a bit more challenging and in real-life more expandable implementation – try to use the mapping that is stored in the intent_map that we saw earlier!\n",
        "\n",
        "def get_labels(predictions):\n",
        "    labels = ...\n",
        "    return labels"
      ],
      "execution_count": null,
      "outputs": []
    },
    {
      "cell_type": "markdown",
      "metadata": {
        "id": "dknpLB6vtAn7"
      },
      "source": [
        "Good job! Now that we have that, we'll train our model. To ensure that training won't take too long, we set the training dataset size to be 0.1. There is a gap (indicated by the three dots) in the code for you to fill out though before we can continue :)"
      ]
    },
    {
      "cell_type": "code",
      "metadata": {
        "id": "ue8hX0nCf_uU"
      },
      "source": [
        "train_size=0.1\n",
        "df_train_small= subset_datafarme(train_size)\n",
        "df_train_small.shape\n",
        "\n",
        "## Training the model\n",
        "## TO DO: Add the missing input parameter\n",
        "model.train_model(...)\n",
        "\n",
        "## Evaluate model\n",
        "result, model_outputs, wrong_predictions = model.eval_model(df_valid)\n",
        "\n",
        "## Print the loss\n",
        "\n",
        "print(result['eval_loss'])"
      ],
      "execution_count": null,
      "outputs": []
    },
    {
      "cell_type": "markdown",
      "metadata": {
        "id": "q93T40KMtkNR"
      },
      "source": [
        "Now we finally get to the fun part – using our model to predict the intent of a sentence! Again, we have left some gaps for you to fill:"
      ]
    },
    {
      "cell_type": "code",
      "metadata": {
        "id": "kF9Pu1FGtwQO"
      },
      "source": [
        "## These are the sentences we make predictions for like \"Play fourties music on Pandora\" or \"Play the song domino by Luca Turilli\". \n",
        "## TO DO: Add two relevant prediction sentences like the ones above in string format to the prediction_sentence array (where the three dots are)\n",
        "\n",
        "prediction_sentences=[\"...\",\n",
        "                      \"...\"]\n",
        "\n",
        "## TO DO: Fill out the missing input parameter for the predict function and see whether you can actually get predictions for your\n",
        "## defined sentences!\n",
        "\n",
        "predictions, raw_outputs = model.predict(...)\n",
        "\n",
        "## With the following lines, we'll translate the predictions back to the intent using the get_labels function you designed earlier\n",
        "for i in range(len(prediction_sentences)):\n",
        "    print(prediction_sentences[i],\":\",get_labels(predictions[i]))"
      ],
      "execution_count": null,
      "outputs": []
    },
    {
      "cell_type": "markdown",
      "metadata": {
        "id": "0aCL72tSuhtB"
      },
      "source": [
        "That's another step done and dusted :) Now it's time to see how our model is doing overall by examining the accuracy scores. First, we will define a function to obtain the accuracy of our model:"
      ]
    },
    {
      "cell_type": "code",
      "metadata": {
        "id": "3DJFazdKeWv3"
      },
      "source": [
        "from sklearn.metrics import accuracy_score\n",
        "\n",
        "def accuracy_model(model,df_train_small):\n",
        "    model.train_model(df_train_small)\n",
        "   #result, model_outputs, wrong_predictions = model.eval_model(df_valid)\n",
        "    predictions, raw_outputs = model.predict(df_valid['words'])\n",
        "    return  accuracy_score(df_valid['intent_label'],predictions)\n"
      ],
      "execution_count": null,
      "outputs": []
    },
    {
      "cell_type": "markdown",
      "metadata": {
        "id": "vlXuZA8tvH3j"
      },
      "source": [
        "Next, we'll train the model with different training data sizes and save both the accuracy obtained (saved in accuracy_plot) and the size of the dataset (saved in train_shape) so that we can plot it later. Try it out with a couple of training sizes yourself – add four to five values between 0 and 1 to the training size array and see how your plot in the next cell changes!"
      ]
    },
    {
      "cell_type": "code",
      "metadata": {
        "id": "0c3OsLeTeWx6"
      },
      "source": [
        "## TO DO: Add different training sizes between 0 and 1\n",
        "train_sizes=[..., ..., ..., ..., ...]\n",
        "\n",
        "train_shape=[]\n",
        "accuracy_plot=[]\n",
        "for train_size in train_sizes:    \n",
        "    df_train_small=subset_datafarme(train_size)    \n",
        "    acc=accuracy_model(model,df_train_small)\n",
        "    print(train_size,len(df_train_small),acc)\n",
        "    accuracy_plot.append(acc)\n",
        "    train_shape.append(len(df_train_small))\n"
      ],
      "execution_count": null,
      "outputs": []
    },
    {
      "cell_type": "markdown",
      "metadata": {
        "id": "NvgI76r9vUgX"
      },
      "source": [
        "And lastly, we want to plot the training size against the accuracy obtained. You know the game, fill out the input parameters to plot the size of the dataset on the x-axis and the accuracy on the y-axis:"
      ]
    },
    {
      "cell_type": "code",
      "metadata": {
        "colab": {
          "base_uri": "https://localhost:8080/",
          "height": 279
        },
        "id": "PBHHLbe2ecZf",
        "outputId": "c9f0d448-b8f9-428f-9a68-0e676e51ad02"
      },
      "source": [
        "import matplotlib.pyplot as plt\n",
        "\n",
        "## TO DO: Add the missing input parameters\n",
        "plt.plot(..., ...)\n",
        "plt.xlabel(\"size of dataset\")\n",
        "plt.ylabel(\"accuracy obatined\")\n",
        "plt.show()"
      ],
      "execution_count": null,
      "outputs": [
        {
          "output_type": "display_data",
          "data": {
            "image/png": "[encoded data removed]",
            "text/plain": [
              "<Figure size 432x288 with 1 Axes>"
            ]
          },
          "metadata": {
            "tags": [],
            "needs_background": "light"
          }
        }
      ]
    },
    {
      "cell_type": "code",
      "metadata": {
        "id": "7q_vYNWlecbw",
        "cellView": "form"
      },
      "source": [
        "#@title Remove this cell if we decide to not include the last graph\n",
        "# ToDO: train with different values of epochs and save the accuracy obtained and size of dataset.\n",
        "train_size= 0.5\n",
        "df_train_small=subset_datafarme(train_size)\n",
        "num_epochs=[1,5,10,15]\n",
        "epoch_no=[]\n",
        "accuracy_plot2=[]\n",
        "for epoch in num_epochs:\n",
        "    model_args = ClassificationArgs(num_train_epochs=epoch, overwrite_output_dir=True, manual_seed=42)\n",
        "    model = ClassificationModel(model_type='bert', model_name='bert-base-uncased', use_cuda=False, num_labels=2, args=model_args)    \n",
        "    acc=accuracy_model(model,df_train_small)\n",
        "    accuracy_plot2.append(acc)\n",
        "    epoch_no.append(epoch)\n",
        "\n",
        "plt.plot(epoch_no,accuracy_plot2)\n",
        "plt.xlabel(\"no of epoch\")\n",
        "plt.ylabel(\"accuracy obatined\")\n",
        "plt.show()\n"
      ],
      "execution_count": null,
      "outputs": []
    },
    {
      "cell_type": "markdown",
      "metadata": {
        "id": "gV1ncITdEGj2"
      },
      "source": [
        "Good job, you're done with this part of the assignment!"
      ]
    }
  ]
}